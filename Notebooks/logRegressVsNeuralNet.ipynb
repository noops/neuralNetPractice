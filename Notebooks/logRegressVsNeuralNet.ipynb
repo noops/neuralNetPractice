{
 "metadata": {
  "language_info": {
   "codemirror_mode": {
    "name": "ipython",
    "version": 3
   },
   "file_extension": ".py",
   "mimetype": "text/x-python",
   "name": "python",
   "nbconvert_exporter": "python",
   "pygments_lexer": "ipython3",
   "version": "3.7.7-final"
  },
  "orig_nbformat": 2,
  "kernelspec": {
   "name": "Python 3.7.7 64-bit ('PythonData': conda)",
   "display_name": "Python 3.7.7 64-bit ('PythonData': conda)",
   "metadata": {
    "interpreter": {
     "hash": "6629937ca33c91e24171fb9c2c6e8adc4c28b335a7e363e22452b0d874202ae3"
    }
   }
  }
 },
 "nbformat": 4,
 "nbformat_minor": 2,
 "cells": [
  {
   "source": [
    "Logistic Regression vs Basic Neural Network \n",
    " - neural network using a sigmoid activation function is essentially a logistic regression model\n",
    " "
   ],
   "cell_type": "markdown",
   "metadata": {}
  },
  {
   "cell_type": "code",
   "execution_count": 10,
   "metadata": {},
   "outputs": [],
   "source": [
    "#imports \n",
    "from sklearn.model_selection import train_test_split\n",
    "from sklearn.preprocessing import StandardScaler\n",
    "from sklearn.linear_model import LogisticRegression\n",
    "from sklearn.metrics import accuracy_score\n",
    "import pandas as pd\n",
    "import numpy as np  \n",
    "import tensorflow as tf\n",
    "from path import Path"
   ]
  },
  {
   "cell_type": "code",
   "execution_count": 2,
   "metadata": {},
   "outputs": [
    {
     "output_type": "execute_result",
     "data": {
      "text/plain": "   Pregnancies  Glucose  BloodPressure  SkinThickness  Insulin   BMI  \\\n0            6      148             72             35        0  33.6   \n1            1       85             66             29        0  26.6   \n2            8      183             64              0        0  23.3   \n3            1       89             66             23       94  28.1   \n4            0      137             40             35      168  43.1   \n\n   DiabetesPedigreeFunction  Age  Outcome  \n0                     0.627   50        1  \n1                     0.351   31        0  \n2                     0.672   32        1  \n3                     0.167   21        0  \n4                     2.288   33        1  ",
      "text/html": "<div>\n<style scoped>\n    .dataframe tbody tr th:only-of-type {\n        vertical-align: middle;\n    }\n\n    .dataframe tbody tr th {\n        vertical-align: top;\n    }\n\n    .dataframe thead th {\n        text-align: right;\n    }\n</style>\n<table border=\"1\" class=\"dataframe\">\n  <thead>\n    <tr style=\"text-align: right;\">\n      <th></th>\n      <th>Pregnancies</th>\n      <th>Glucose</th>\n      <th>BloodPressure</th>\n      <th>SkinThickness</th>\n      <th>Insulin</th>\n      <th>BMI</th>\n      <th>DiabetesPedigreeFunction</th>\n      <th>Age</th>\n      <th>Outcome</th>\n    </tr>\n  </thead>\n  <tbody>\n    <tr>\n      <th>0</th>\n      <td>6</td>\n      <td>148</td>\n      <td>72</td>\n      <td>35</td>\n      <td>0</td>\n      <td>33.6</td>\n      <td>0.627</td>\n      <td>50</td>\n      <td>1</td>\n    </tr>\n    <tr>\n      <th>1</th>\n      <td>1</td>\n      <td>85</td>\n      <td>66</td>\n      <td>29</td>\n      <td>0</td>\n      <td>26.6</td>\n      <td>0.351</td>\n      <td>31</td>\n      <td>0</td>\n    </tr>\n    <tr>\n      <th>2</th>\n      <td>8</td>\n      <td>183</td>\n      <td>64</td>\n      <td>0</td>\n      <td>0</td>\n      <td>23.3</td>\n      <td>0.672</td>\n      <td>32</td>\n      <td>1</td>\n    </tr>\n    <tr>\n      <th>3</th>\n      <td>1</td>\n      <td>89</td>\n      <td>66</td>\n      <td>23</td>\n      <td>94</td>\n      <td>28.1</td>\n      <td>0.167</td>\n      <td>21</td>\n      <td>0</td>\n    </tr>\n    <tr>\n      <th>4</th>\n      <td>0</td>\n      <td>137</td>\n      <td>40</td>\n      <td>35</td>\n      <td>168</td>\n      <td>43.1</td>\n      <td>2.288</td>\n      <td>33</td>\n      <td>1</td>\n    </tr>\n  </tbody>\n</table>\n</div>"
     },
     "metadata": {},
     "execution_count": 2
    }
   ],
   "source": [
    "#load dataset\n",
    "file_path = Path(\"../Resources/diabetes.csv\")\n",
    "diabetes_df = pd.read_csv(file_path)\n",
    "diabetes_df.head()"
   ]
  },
  {
   "source": [
    "Data needs to be standardized for basic neural network, no preprocessing required for the logistic regression. Need to keep track of scaled and unscaled training dataset. "
   ],
   "cell_type": "markdown",
   "metadata": {}
  },
  {
   "cell_type": "code",
   "execution_count": 3,
   "metadata": {},
   "outputs": [],
   "source": [
    "#remove diabetes outcome target from data\n",
    "y = diabetes_df.Outcome\n",
    "X = diabetes_df.drop(columns=\"Outcome\")\n",
    "\n",
    "#split datasets into training and testing\n",
    "X_train, X_test, y_train, y_test = train_test_split(X, y, random_state=42, stratify=y)"
   ]
  },
  {
   "cell_type": "code",
   "execution_count": 4,
   "metadata": {},
   "outputs": [],
   "source": [
    "#preprocess numerical data for basic neural network\n",
    "\n",
    "#create standardscaler instance\n",
    "scaler = StandardScaler()\n",
    "\n",
    "#fit scaler\n",
    "X_scaler = scaler.fit(X_train)\n",
    "\n",
    "#scale the data\n",
    "X_train_scaled = X_scaler.transform(X_train)\n",
    "X_test_scaled = X_scaler.transform(X_test)"
   ]
  },
  {
   "cell_type": "code",
   "execution_count": 7,
   "metadata": {
    "tags": []
   },
   "outputs": [
    {
     "output_type": "stream",
     "name": "stdout",
     "text": "Logistic Regression model accuracy: 0.729\n"
    }
   ],
   "source": [
    "#define logistic regression model\n",
    "log_classifier = LogisticRegression(solver=\"lbfgs\", max_iter=200)\n",
    "\n",
    "#train the model\n",
    "log_classifier.fit(X_train,y_train)\n",
    "\n",
    "#evaluate the model\n",
    "y_pred = log_classifier.predict(X_test)"
   ]
  },
  {
   "cell_type": "code",
   "execution_count": 6,
   "metadata": {
    "tags": []
   },
   "outputs": [
    {
     "output_type": "stream",
     "name": "stdout",
     "text": "Logistic Regression model accuracy: 0.729\n"
    }
   ],
   "source": [
    "print(f\"Logistic Regression model accuracy: {accuracy_score(y_test,y_pred):.3f}\")"
   ]
  },
  {
   "cell_type": "code",
   "execution_count": 11,
   "metadata": {
    "tags": []
   },
   "outputs": [
    {
     "output_type": "stream",
     "name": "stdout",
     "text": "Train on 576 samples\nEpoch 1/50\n576/576 [==============================] - 1s 2ms/sample - loss: 0.6213 - accuracy: 0.6736\nEpoch 2/50\n576/576 [==============================] - 0s 96us/sample - loss: 0.5886 - accuracy: 0.7031\nEpoch 3/50\n576/576 [==============================] - 0s 114us/sample - loss: 0.5630 - accuracy: 0.7170\nEpoch 4/50\n576/576 [==============================] - 0s 95us/sample - loss: 0.5431 - accuracy: 0.7257\nEpoch 5/50\n576/576 [==============================] - 0s 98us/sample - loss: 0.5276 - accuracy: 0.7344\nEpoch 6/50\n576/576 [==============================] - 0s 109us/sample - loss: 0.5157 - accuracy: 0.7483\nEpoch 7/50\n576/576 [==============================] - 0s 109us/sample - loss: 0.5062 - accuracy: 0.7465\nEpoch 8/50\n576/576 [==============================] - 0s 114us/sample - loss: 0.4979 - accuracy: 0.7622\nEpoch 9/50\n576/576 [==============================] - 0s 118us/sample - loss: 0.4920 - accuracy: 0.7587\nEpoch 10/50\n576/576 [==============================] - 0s 114us/sample - loss: 0.4862 - accuracy: 0.7639\nEpoch 11/50\n576/576 [==============================] - 0s 114us/sample - loss: 0.4815 - accuracy: 0.7656\nEpoch 12/50\n576/576 [==============================] - 0s 109us/sample - loss: 0.4779 - accuracy: 0.7691\nEpoch 13/50\n576/576 [==============================] - 0s 110us/sample - loss: 0.4746 - accuracy: 0.7691\nEpoch 14/50\n576/576 [==============================] - 0s 102us/sample - loss: 0.4719 - accuracy: 0.7691\nEpoch 15/50\n576/576 [==============================] - 0s 122us/sample - loss: 0.4690 - accuracy: 0.7743\nEpoch 16/50\n576/576 [==============================] - 0s 110us/sample - loss: 0.4664 - accuracy: 0.7743\nEpoch 17/50\n576/576 [==============================] - 0s 152us/sample - loss: 0.4648 - accuracy: 0.7743\nEpoch 18/50\n576/576 [==============================] - 0s 101us/sample - loss: 0.4628 - accuracy: 0.7778\nEpoch 19/50\n576/576 [==============================] - 0s 91us/sample - loss: 0.4611 - accuracy: 0.7812\nEpoch 20/50\n576/576 [==============================] - 0s 110us/sample - loss: 0.4599 - accuracy: 0.7778\nEpoch 21/50\n576/576 [==============================] - 0s 103us/sample - loss: 0.4583 - accuracy: 0.7795\nEpoch 22/50\n576/576 [==============================] - 0s 110us/sample - loss: 0.4568 - accuracy: 0.7760\nEpoch 23/50\n576/576 [==============================] - 0s 95us/sample - loss: 0.4564 - accuracy: 0.7778\nEpoch 24/50\n576/576 [==============================] - 0s 94us/sample - loss: 0.4553 - accuracy: 0.7760\nEpoch 25/50\n576/576 [==============================] - 0s 95us/sample - loss: 0.4542 - accuracy: 0.7778\nEpoch 26/50\n576/576 [==============================] - 0s 106us/sample - loss: 0.4528 - accuracy: 0.7812\nEpoch 27/50\n576/576 [==============================] - 0s 98us/sample - loss: 0.4520 - accuracy: 0.7778\nEpoch 28/50\n576/576 [==============================] - 0s 97us/sample - loss: 0.4510 - accuracy: 0.7830\nEpoch 29/50\n576/576 [==============================] - 0s 100us/sample - loss: 0.4503 - accuracy: 0.7830\nEpoch 30/50\n576/576 [==============================] - 0s 97us/sample - loss: 0.4494 - accuracy: 0.7812\nEpoch 31/50\n576/576 [==============================] - 0s 91us/sample - loss: 0.4490 - accuracy: 0.7882\nEpoch 32/50\n576/576 [==============================] - 0s 93us/sample - loss: 0.4481 - accuracy: 0.7951\nEpoch 33/50\n576/576 [==============================] - 0s 103us/sample - loss: 0.4473 - accuracy: 0.7899\nEpoch 34/50\n576/576 [==============================] - 0s 89us/sample - loss: 0.4467 - accuracy: 0.7934\nEpoch 35/50\n576/576 [==============================] - 0s 99us/sample - loss: 0.4459 - accuracy: 0.7882\nEpoch 36/50\n576/576 [==============================] - 0s 90us/sample - loss: 0.4460 - accuracy: 0.7865\nEpoch 37/50\n576/576 [==============================] - 0s 97us/sample - loss: 0.4448 - accuracy: 0.7865\nEpoch 38/50\n576/576 [==============================] - 0s 98us/sample - loss: 0.4439 - accuracy: 0.7865\nEpoch 39/50\n576/576 [==============================] - 0s 103us/sample - loss: 0.4434 - accuracy: 0.7899\nEpoch 40/50\n576/576 [==============================] - 0s 99us/sample - loss: 0.4429 - accuracy: 0.7899\nEpoch 41/50\n576/576 [==============================] - 0s 89us/sample - loss: 0.4421 - accuracy: 0.7882\nEpoch 42/50\n576/576 [==============================] - 0s 93us/sample - loss: 0.4421 - accuracy: 0.7899\nEpoch 43/50\n576/576 [==============================] - 0s 95us/sample - loss: 0.4412 - accuracy: 0.7899\nEpoch 44/50\n576/576 [==============================] - 0s 113us/sample - loss: 0.4408 - accuracy: 0.7917\nEpoch 45/50\n576/576 [==============================] - 0s 119us/sample - loss: 0.4401 - accuracy: 0.7934\nEpoch 46/50\n576/576 [==============================] - 0s 142us/sample - loss: 0.4399 - accuracy: 0.7917\nEpoch 47/50\n576/576 [==============================] - 0s 146us/sample - loss: 0.4394 - accuracy: 0.7917\nEpoch 48/50\n576/576 [==============================] - 0s 111us/sample - loss: 0.4389 - accuracy: 0.7917\nEpoch 49/50\n576/576 [==============================] - 0s 117us/sample - loss: 0.4390 - accuracy: 0.7899\nEpoch 50/50\n576/576 [==============================] - 0s 130us/sample - loss: 0.4379 - accuracy: 0.7917\n192/1 - 0s - loss: 0.4898 - accuracy: 0.7240\nLoss: 0.48355482518672943, Accuracy: 0.7239583134651184\n"
    }
   ],
   "source": [
    "#define basic neural network\n",
    "nn_model = tf.keras.models.Sequential()\n",
    "nn_model.add(tf.keras.layers.Dense(units=16, activation=\"relu\", input_dim=8))\n",
    "nn_model.add(tf.keras.layers.Dense(units=1, activation=\"sigmoid\"))\n",
    "\n",
    "#convert series to arrays \n",
    "y_test = np.array(y_test) \n",
    "y_train = np.array(y_train)\n",
    "\n",
    "#compile the sequential model and customize metrics\n",
    "nn_model.compile(loss=\"binary_crossentropy\", optimizer=\"adam\", metrics=[\"accuracy\"])\n",
    "\n",
    "#train the model\n",
    "fit_model = nn_model.fit(X_train_scaled, y_train, epochs=50)\n",
    "\n",
    "#evaluate the model\n",
    "model_loss, model_accuracy = nn_model.evaluate(X_test_scaled, y_test, verbose=2)\n",
    "print(f\"Loss: {model_loss}, Accuracy: {model_accuracy}\")"
   ]
  },
  {
   "source": [
    "after comparing both models predictive accuracy their output is very similar. Logistic regression: 73%. Basic neural network: 72%. neither model reached 80% accuracy because the input data was insufficient, not enough data points and too few features. Both models need further optimization, parameters, structure, and weights. Some features likely need to be removed as they could be causing confusion. "
   ],
   "cell_type": "markdown",
   "metadata": {}
  }
 ]
}