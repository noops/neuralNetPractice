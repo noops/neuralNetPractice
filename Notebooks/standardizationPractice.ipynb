{
 "metadata": {
  "language_info": {
   "codemirror_mode": {
    "name": "ipython",
    "version": 3
   },
   "file_extension": ".py",
   "mimetype": "text/x-python",
   "name": "python",
   "nbconvert_exporter": "python",
   "pygments_lexer": "ipython3",
   "version": "3.7.7-final"
  },
  "orig_nbformat": 2,
  "kernelspec": {
   "name": "Python 3.7.7 64-bit ('PythonData': conda)",
   "display_name": "Python 3.7.7 64-bit ('PythonData': conda)",
   "metadata": {
    "interpreter": {
     "hash": "6629937ca33c91e24171fb9c2c6e8adc4c28b335a7e363e22452b0d874202ae3"
    }
   }
  }
 },
 "nbformat": 4,
 "nbformat_minor": 2,
 "cells": [
  {
   "cell_type": "code",
   "execution_count": 3,
   "metadata": {},
   "outputs": [],
   "source": [
    "#imports\n",
    "import pandas as pd \n",
    "from path import Path\n",
    "from sklearn.preprocessing import StandardScaler"
   ]
  },
  {
   "cell_type": "code",
   "execution_count": 4,
   "metadata": {},
   "outputs": [
    {
     "output_type": "execute_result",
     "data": {
      "text/plain": "   Satisfaction_Level  Num_Projects  Time_Spent  Num_Promotions\n0                0.30             1         253               2\n1                0.25             1         200               0\n2                0.90             4        2880               5\n3                0.65             3        1450               3\n4                0.50             2         785               2",
      "text/html": "<div>\n<style scoped>\n    .dataframe tbody tr th:only-of-type {\n        vertical-align: middle;\n    }\n\n    .dataframe tbody tr th {\n        vertical-align: top;\n    }\n\n    .dataframe thead th {\n        text-align: right;\n    }\n</style>\n<table border=\"1\" class=\"dataframe\">\n  <thead>\n    <tr style=\"text-align: right;\">\n      <th></th>\n      <th>Satisfaction_Level</th>\n      <th>Num_Projects</th>\n      <th>Time_Spent</th>\n      <th>Num_Promotions</th>\n    </tr>\n  </thead>\n  <tbody>\n    <tr>\n      <th>0</th>\n      <td>0.30</td>\n      <td>1</td>\n      <td>253</td>\n      <td>2</td>\n    </tr>\n    <tr>\n      <th>1</th>\n      <td>0.25</td>\n      <td>1</td>\n      <td>200</td>\n      <td>0</td>\n    </tr>\n    <tr>\n      <th>2</th>\n      <td>0.90</td>\n      <td>4</td>\n      <td>2880</td>\n      <td>5</td>\n    </tr>\n    <tr>\n      <th>3</th>\n      <td>0.65</td>\n      <td>3</td>\n      <td>1450</td>\n      <td>3</td>\n    </tr>\n    <tr>\n      <th>4</th>\n      <td>0.50</td>\n      <td>2</td>\n      <td>785</td>\n      <td>2</td>\n    </tr>\n  </tbody>\n</table>\n</div>"
     },
     "metadata": {},
     "execution_count": 4
    }
   ],
   "source": [
    "file_path = Path(\"../Resources/hr_dataset.csv\")\n",
    "hr_df = pd.read_csv(file_path)\n",
    "hr_df.head()"
   ]
  },
  {
   "cell_type": "code",
   "execution_count": 8,
   "metadata": {},
   "outputs": [
    {
     "output_type": "execute_result",
     "data": {
      "text/plain": "   Satisfaction_Level  Num_Projects  Time_Spent  Num_Promotions\n0           -1.303615     -1.162476   -1.049481       -0.558656\n1           -1.512945     -1.162476   -1.094603       -1.804887\n2            1.208335      0.860233    1.187080        1.310692\n3            0.161689      0.185996   -0.030385        0.064460\n4           -0.466299     -0.488240   -0.596549       -0.558656",
      "text/html": "<div>\n<style scoped>\n    .dataframe tbody tr th:only-of-type {\n        vertical-align: middle;\n    }\n\n    .dataframe tbody tr th {\n        vertical-align: top;\n    }\n\n    .dataframe thead th {\n        text-align: right;\n    }\n</style>\n<table border=\"1\" class=\"dataframe\">\n  <thead>\n    <tr style=\"text-align: right;\">\n      <th></th>\n      <th>Satisfaction_Level</th>\n      <th>Num_Projects</th>\n      <th>Time_Spent</th>\n      <th>Num_Promotions</th>\n    </tr>\n  </thead>\n  <tbody>\n    <tr>\n      <th>0</th>\n      <td>-1.303615</td>\n      <td>-1.162476</td>\n      <td>-1.049481</td>\n      <td>-0.558656</td>\n    </tr>\n    <tr>\n      <th>1</th>\n      <td>-1.512945</td>\n      <td>-1.162476</td>\n      <td>-1.094603</td>\n      <td>-1.804887</td>\n    </tr>\n    <tr>\n      <th>2</th>\n      <td>1.208335</td>\n      <td>0.860233</td>\n      <td>1.187080</td>\n      <td>1.310692</td>\n    </tr>\n    <tr>\n      <th>3</th>\n      <td>0.161689</td>\n      <td>0.185996</td>\n      <td>-0.030385</td>\n      <td>0.064460</td>\n    </tr>\n    <tr>\n      <th>4</th>\n      <td>-0.466299</td>\n      <td>-0.488240</td>\n      <td>-0.596549</td>\n      <td>-0.558656</td>\n    </tr>\n  </tbody>\n</table>\n</div>"
     },
     "metadata": {},
     "execution_count": 8
    }
   ],
   "source": [
    "#create standardscaler instance\n",
    "scaler = StandardScaler()\n",
    "#fit the scaler\n",
    "scaler.fit(hr_df)\n",
    "#scale the data\n",
    "scaled_data = scaler.transform(hr_df)\n",
    "#create DF with scaled data\n",
    "transformed_scaled_data = pd.DataFrame(scaled_data, columns=hr_df.columns)\n",
    "transformed_scaled_data.head()"
   ]
  },
  {
   "cell_type": "code",
   "execution_count": null,
   "metadata": {},
   "outputs": [],
   "source": []
  }
 ]
}