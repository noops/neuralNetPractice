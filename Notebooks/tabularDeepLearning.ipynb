{
 "metadata": {
  "language_info": {
   "codemirror_mode": {
    "name": "ipython",
    "version": 3
   },
   "file_extension": ".py",
   "mimetype": "text/x-python",
   "name": "python",
   "nbconvert_exporter": "python",
   "pygments_lexer": "ipython3",
   "version": "3.7.7-final"
  },
  "orig_nbformat": 2,
  "kernelspec": {
   "name": "Python 3.7.7 64-bit ('PythonData': conda)",
   "display_name": "Python 3.7.7 64-bit ('PythonData': conda)",
   "metadata": {
    "interpreter": {
     "hash": "6629937ca33c91e24171fb9c2c6e8adc4c28b335a7e363e22452b0d874202ae3"
    }
   }
  }
 },
 "nbformat": 4,
 "nbformat_minor": 2,
 "cells": [
  {
   "cell_type": "code",
   "execution_count": 42,
   "metadata": {},
   "outputs": [],
   "source": [
    "#imports\n",
    "from sklearn.model_selection import train_test_split\n",
    "from sklearn.preprocessing import StandardScaler,OneHotEncoder\n",
    "import pandas as pd\n",
    "import tensorflow as tf\n",
    "from path import Path"
   ]
  },
  {
   "cell_type": "code",
   "execution_count": 43,
   "metadata": {},
   "outputs": [],
   "source": [
    "# Import checkpoint dependencies\n",
    "import os\n",
    "from tensorflow.keras.callbacks import ModelCheckpoint\n",
    "\n",
    "# Define the checkpoint path and filenames\n",
    "os.makedirs(\"checkpoints/\",exist_ok=True)\n",
    "checkpoint_path = \"checkpoints/weights.{epoch:02d}.hdf5\""
   ]
  },
  {
   "cell_type": "code",
   "execution_count": 44,
   "metadata": {},
   "outputs": [
    {
     "output_type": "execute_result",
     "data": {
      "text/plain": "   Age Attrition     BusinessTravel  DailyRate              Department  \\\n0   41       Yes      Travel_Rarely       1102                   Sales   \n1   49        No  Travel_Frequently        279  Research &amp; Development   \n2   37       Yes      Travel_Rarely       1373  Research &amp; Development   \n3   33        No  Travel_Frequently       1392  Research &amp; Development   \n4   27        No      Travel_Rarely        591  Research &amp; Development   \n\n   DistanceFromHome  Education EducationField  EmployeeCount  EmployeeNumber  \\\n0                 1          2  Life Sciences              1               1   \n1                 8          1  Life Sciences              1               2   \n2                 2          2          Other              1               4   \n3                 3          4  Life Sciences              1               5   \n4                 2          1        Medical              1               7   \n\n   ...  RelationshipSatisfaction StandardHours  StockOptionLevel  \\\n0  ...                         1            80                 0   \n1  ...                         4            80                 1   \n2  ...                         2            80                 0   \n3  ...                         3            80                 0   \n4  ...                         4            80                 1   \n\n   TotalWorkingYears  TrainingTimesLastYear WorkLifeBalance  YearsAtCompany  \\\n0                  8                      0               1               6   \n1                 10                      3               3              10   \n2                  7                      3               3               0   \n3                  8                      3               3               8   \n4                  6                      3               3               2   \n\n  YearsInCurrentRole  YearsSinceLastPromotion  YearsWithCurrManager  \n0                  4                        0                     5  \n1                  7                        1                     7  \n2                  0                        0                     0  \n3                  7                        3                     0  \n4                  2                        2                     2  \n\n[5 rows x 35 columns]",
      "text/html": "<div>\n<style scoped>\n    .dataframe tbody tr th:only-of-type {\n        vertical-align: middle;\n    }\n\n    .dataframe tbody tr th {\n        vertical-align: top;\n    }\n\n    .dataframe thead th {\n        text-align: right;\n    }\n</style>\n<table border=\"1\" class=\"dataframe\">\n  <thead>\n    <tr style=\"text-align: right;\">\n      <th></th>\n      <th>Age</th>\n      <th>Attrition</th>\n      <th>BusinessTravel</th>\n      <th>DailyRate</th>\n      <th>Department</th>\n      <th>DistanceFromHome</th>\n      <th>Education</th>\n      <th>EducationField</th>\n      <th>EmployeeCount</th>\n      <th>EmployeeNumber</th>\n      <th>...</th>\n      <th>RelationshipSatisfaction</th>\n      <th>StandardHours</th>\n      <th>StockOptionLevel</th>\n      <th>TotalWorkingYears</th>\n      <th>TrainingTimesLastYear</th>\n      <th>WorkLifeBalance</th>\n      <th>YearsAtCompany</th>\n      <th>YearsInCurrentRole</th>\n      <th>YearsSinceLastPromotion</th>\n      <th>YearsWithCurrManager</th>\n    </tr>\n  </thead>\n  <tbody>\n    <tr>\n      <th>0</th>\n      <td>41</td>\n      <td>Yes</td>\n      <td>Travel_Rarely</td>\n      <td>1102</td>\n      <td>Sales</td>\n      <td>1</td>\n      <td>2</td>\n      <td>Life Sciences</td>\n      <td>1</td>\n      <td>1</td>\n      <td>...</td>\n      <td>1</td>\n      <td>80</td>\n      <td>0</td>\n      <td>8</td>\n      <td>0</td>\n      <td>1</td>\n      <td>6</td>\n      <td>4</td>\n      <td>0</td>\n      <td>5</td>\n    </tr>\n    <tr>\n      <th>1</th>\n      <td>49</td>\n      <td>No</td>\n      <td>Travel_Frequently</td>\n      <td>279</td>\n      <td>Research &amp; Development</td>\n      <td>8</td>\n      <td>1</td>\n      <td>Life Sciences</td>\n      <td>1</td>\n      <td>2</td>\n      <td>...</td>\n      <td>4</td>\n      <td>80</td>\n      <td>1</td>\n      <td>10</td>\n      <td>3</td>\n      <td>3</td>\n      <td>10</td>\n      <td>7</td>\n      <td>1</td>\n      <td>7</td>\n    </tr>\n    <tr>\n      <th>2</th>\n      <td>37</td>\n      <td>Yes</td>\n      <td>Travel_Rarely</td>\n      <td>1373</td>\n      <td>Research &amp; Development</td>\n      <td>2</td>\n      <td>2</td>\n      <td>Other</td>\n      <td>1</td>\n      <td>4</td>\n      <td>...</td>\n      <td>2</td>\n      <td>80</td>\n      <td>0</td>\n      <td>7</td>\n      <td>3</td>\n      <td>3</td>\n      <td>0</td>\n      <td>0</td>\n      <td>0</td>\n      <td>0</td>\n    </tr>\n    <tr>\n      <th>3</th>\n      <td>33</td>\n      <td>No</td>\n      <td>Travel_Frequently</td>\n      <td>1392</td>\n      <td>Research &amp; Development</td>\n      <td>3</td>\n      <td>4</td>\n      <td>Life Sciences</td>\n      <td>1</td>\n      <td>5</td>\n      <td>...</td>\n      <td>3</td>\n      <td>80</td>\n      <td>0</td>\n      <td>8</td>\n      <td>3</td>\n      <td>3</td>\n      <td>8</td>\n      <td>7</td>\n      <td>3</td>\n      <td>0</td>\n    </tr>\n    <tr>\n      <th>4</th>\n      <td>27</td>\n      <td>No</td>\n      <td>Travel_Rarely</td>\n      <td>591</td>\n      <td>Research &amp; Development</td>\n      <td>2</td>\n      <td>1</td>\n      <td>Medical</td>\n      <td>1</td>\n      <td>7</td>\n      <td>...</td>\n      <td>4</td>\n      <td>80</td>\n      <td>1</td>\n      <td>6</td>\n      <td>3</td>\n      <td>3</td>\n      <td>2</td>\n      <td>2</td>\n      <td>2</td>\n      <td>2</td>\n    </tr>\n  </tbody>\n</table>\n<p>5 rows × 35 columns</p>\n</div>"
     },
     "metadata": {},
     "execution_count": 44
    }
   ],
   "source": [
    "file_path = Path(\"../Resources/HR-Employee-Attrition.csv\")\n",
    "attrition_df = pd.read_csv(file_path)\n",
    "attrition_df.head()"
   ]
  },
  {
   "cell_type": "code",
   "execution_count": 45,
   "metadata": {},
   "outputs": [],
   "source": [
    "#generate categorical variable list\n",
    "attrition_cat = attrition_df.dtypes[attrition_df.dtypes == \"object\"].index.tolist()"
   ]
  },
  {
   "cell_type": "code",
   "execution_count": 46,
   "metadata": {},
   "outputs": [
    {
     "output_type": "execute_result",
     "data": {
      "text/plain": "Attrition         2\nBusinessTravel    3\nDepartment        3\nEducationField    6\nGender            2\nJobRole           9\nMaritalStatus     3\nOver18            1\nOverTime          2\ndtype: int64"
     },
     "metadata": {},
     "execution_count": 46
    }
   ],
   "source": [
    "#check number of unique values\n",
    "attrition_df[attrition_cat].nunique()"
   ]
  },
  {
   "cell_type": "code",
   "execution_count": 47,
   "metadata": {},
   "outputs": [
    {
     "output_type": "execute_result",
     "data": {
      "text/plain": "   Attrition_No  Attrition_Yes  BusinessTravel_Non-Travel  \\\n0           0.0            1.0                        0.0   \n1           1.0            0.0                        0.0   \n2           0.0            1.0                        0.0   \n3           1.0            0.0                        0.0   \n4           1.0            0.0                        0.0   \n\n   BusinessTravel_Travel_Frequently  BusinessTravel_Travel_Rarely  \\\n0                               0.0                           1.0   \n1                               1.0                           0.0   \n2                               0.0                           1.0   \n3                               1.0                           0.0   \n4                               0.0                           1.0   \n\n   Department_Human Resources  Department_Research &amp; Development  \\\n0                         0.0                                0.0   \n1                         0.0                                1.0   \n2                         0.0                                1.0   \n3                         0.0                                1.0   \n4                         0.0                                1.0   \n\n   Department_Sales  EducationField_Human Resources  \\\n0               1.0                             0.0   \n1               0.0                             0.0   \n2               0.0                             0.0   \n3               0.0                             0.0   \n4               0.0                             0.0   \n\n   EducationField_Life Sciences  ...  JobRole_Research Director  \\\n0                           1.0  ...                        0.0   \n1                           1.0  ...                        0.0   \n2                           0.0  ...                        0.0   \n3                           1.0  ...                        0.0   \n4                           0.0  ...                        0.0   \n\n   JobRole_Research Scientist  JobRole_Sales Executive  \\\n0                         0.0                      1.0   \n1                         1.0                      0.0   \n2                         0.0                      0.0   \n3                         1.0                      0.0   \n4                         0.0                      0.0   \n\n   JobRole_Sales Representative  MaritalStatus_Divorced  \\\n0                           0.0                     0.0   \n1                           0.0                     0.0   \n2                           0.0                     0.0   \n3                           0.0                     0.0   \n4                           0.0                     0.0   \n\n   MaritalStatus_Married  MaritalStatus_Single  Over18_Y  OverTime_No  \\\n0                    0.0                   1.0       1.0          0.0   \n1                    1.0                   0.0       1.0          1.0   \n2                    0.0                   1.0       1.0          0.0   \n3                    1.0                   0.0       1.0          0.0   \n4                    1.0                   0.0       1.0          1.0   \n\n   OverTime_Yes  \n0           1.0  \n1           0.0  \n2           1.0  \n3           1.0  \n4           0.0  \n\n[5 rows x 31 columns]",
      "text/html": "<div>\n<style scoped>\n    .dataframe tbody tr th:only-of-type {\n        vertical-align: middle;\n    }\n\n    .dataframe tbody tr th {\n        vertical-align: top;\n    }\n\n    .dataframe thead th {\n        text-align: right;\n    }\n</style>\n<table border=\"1\" class=\"dataframe\">\n  <thead>\n    <tr style=\"text-align: right;\">\n      <th></th>\n      <th>Attrition_No</th>\n      <th>Attrition_Yes</th>\n      <th>BusinessTravel_Non-Travel</th>\n      <th>BusinessTravel_Travel_Frequently</th>\n      <th>BusinessTravel_Travel_Rarely</th>\n      <th>Department_Human Resources</th>\n      <th>Department_Research &amp; Development</th>\n      <th>Department_Sales</th>\n      <th>EducationField_Human Resources</th>\n      <th>EducationField_Life Sciences</th>\n      <th>...</th>\n      <th>JobRole_Research Director</th>\n      <th>JobRole_Research Scientist</th>\n      <th>JobRole_Sales Executive</th>\n      <th>JobRole_Sales Representative</th>\n      <th>MaritalStatus_Divorced</th>\n      <th>MaritalStatus_Married</th>\n      <th>MaritalStatus_Single</th>\n      <th>Over18_Y</th>\n      <th>OverTime_No</th>\n      <th>OverTime_Yes</th>\n    </tr>\n  </thead>\n  <tbody>\n    <tr>\n      <th>0</th>\n      <td>0.0</td>\n      <td>1.0</td>\n      <td>0.0</td>\n      <td>0.0</td>\n      <td>1.0</td>\n      <td>0.0</td>\n      <td>0.0</td>\n      <td>1.0</td>\n      <td>0.0</td>\n      <td>1.0</td>\n      <td>...</td>\n      <td>0.0</td>\n      <td>0.0</td>\n      <td>1.0</td>\n      <td>0.0</td>\n      <td>0.0</td>\n      <td>0.0</td>\n      <td>1.0</td>\n      <td>1.0</td>\n      <td>0.0</td>\n      <td>1.0</td>\n    </tr>\n    <tr>\n      <th>1</th>\n      <td>1.0</td>\n      <td>0.0</td>\n      <td>0.0</td>\n      <td>1.0</td>\n      <td>0.0</td>\n      <td>0.0</td>\n      <td>1.0</td>\n      <td>0.0</td>\n      <td>0.0</td>\n      <td>1.0</td>\n      <td>...</td>\n      <td>0.0</td>\n      <td>1.0</td>\n      <td>0.0</td>\n      <td>0.0</td>\n      <td>0.0</td>\n      <td>1.0</td>\n      <td>0.0</td>\n      <td>1.0</td>\n      <td>1.0</td>\n      <td>0.0</td>\n    </tr>\n    <tr>\n      <th>2</th>\n      <td>0.0</td>\n      <td>1.0</td>\n      <td>0.0</td>\n      <td>0.0</td>\n      <td>1.0</td>\n      <td>0.0</td>\n      <td>1.0</td>\n      <td>0.0</td>\n      <td>0.0</td>\n      <td>0.0</td>\n      <td>...</td>\n      <td>0.0</td>\n      <td>0.0</td>\n      <td>0.0</td>\n      <td>0.0</td>\n      <td>0.0</td>\n      <td>0.0</td>\n      <td>1.0</td>\n      <td>1.0</td>\n      <td>0.0</td>\n      <td>1.0</td>\n    </tr>\n    <tr>\n      <th>3</th>\n      <td>1.0</td>\n      <td>0.0</td>\n      <td>0.0</td>\n      <td>1.0</td>\n      <td>0.0</td>\n      <td>0.0</td>\n      <td>1.0</td>\n      <td>0.0</td>\n      <td>0.0</td>\n      <td>1.0</td>\n      <td>...</td>\n      <td>0.0</td>\n      <td>1.0</td>\n      <td>0.0</td>\n      <td>0.0</td>\n      <td>0.0</td>\n      <td>1.0</td>\n      <td>0.0</td>\n      <td>1.0</td>\n      <td>0.0</td>\n      <td>1.0</td>\n    </tr>\n    <tr>\n      <th>4</th>\n      <td>1.0</td>\n      <td>0.0</td>\n      <td>0.0</td>\n      <td>0.0</td>\n      <td>1.0</td>\n      <td>0.0</td>\n      <td>1.0</td>\n      <td>0.0</td>\n      <td>0.0</td>\n      <td>0.0</td>\n      <td>...</td>\n      <td>0.0</td>\n      <td>0.0</td>\n      <td>0.0</td>\n      <td>0.0</td>\n      <td>0.0</td>\n      <td>1.0</td>\n      <td>0.0</td>\n      <td>1.0</td>\n      <td>1.0</td>\n      <td>0.0</td>\n    </tr>\n  </tbody>\n</table>\n<p>5 rows × 31 columns</p>\n</div>"
     },
     "metadata": {},
     "execution_count": 47
    }
   ],
   "source": [
    "#create onehotencoder instance\n",
    "enc = OneHotEncoder(sparse=False)\n",
    "\n",
    "#fit and transform\n",
    "encode_df = pd.DataFrame(enc.fit_transform(attrition_df[attrition_cat]))\n",
    "\n",
    "#add the encoded variable names \n",
    "encode_df.columns = enc.get_feature_names(attrition_cat)\n",
    "encode_df.head()"
   ]
  },
  {
   "cell_type": "code",
   "execution_count": 48,
   "metadata": {},
   "outputs": [
    {
     "output_type": "execute_result",
     "data": {
      "text/plain": "   Age  DailyRate  DistanceFromHome  Education  EmployeeCount  EmployeeNumber  \\\n0   41       1102                 1          2              1               1   \n1   49        279                 8          1              1               2   \n2   37       1373                 2          2              1               4   \n3   33       1392                 3          4              1               5   \n4   27        591                 2          1              1               7   \n\n   EnvironmentSatisfaction  HourlyRate  JobInvolvement  JobLevel  ...  \\\n0                        2          94               3         2  ...   \n1                        3          61               2         2  ...   \n2                        4          92               2         1  ...   \n3                        4          56               3         1  ...   \n4                        1          40               3         1  ...   \n\n   JobRole_Research Director  JobRole_Research Scientist  \\\n0                        0.0                         0.0   \n1                        0.0                         1.0   \n2                        0.0                         0.0   \n3                        0.0                         1.0   \n4                        0.0                         0.0   \n\n   JobRole_Sales Executive  JobRole_Sales Representative  \\\n0                      1.0                           0.0   \n1                      0.0                           0.0   \n2                      0.0                           0.0   \n3                      0.0                           0.0   \n4                      0.0                           0.0   \n\n   MaritalStatus_Divorced  MaritalStatus_Married  MaritalStatus_Single  \\\n0                     0.0                    0.0                   1.0   \n1                     0.0                    1.0                   0.0   \n2                     0.0                    0.0                   1.0   \n3                     0.0                    1.0                   0.0   \n4                     0.0                    1.0                   0.0   \n\n   Over18_Y  OverTime_No  OverTime_Yes  \n0       1.0          0.0           1.0  \n1       1.0          1.0           0.0  \n2       1.0          0.0           1.0  \n3       1.0          0.0           1.0  \n4       1.0          1.0           0.0  \n\n[5 rows x 57 columns]",
      "text/html": "<div>\n<style scoped>\n    .dataframe tbody tr th:only-of-type {\n        vertical-align: middle;\n    }\n\n    .dataframe tbody tr th {\n        vertical-align: top;\n    }\n\n    .dataframe thead th {\n        text-align: right;\n    }\n</style>\n<table border=\"1\" class=\"dataframe\">\n  <thead>\n    <tr style=\"text-align: right;\">\n      <th></th>\n      <th>Age</th>\n      <th>DailyRate</th>\n      <th>DistanceFromHome</th>\n      <th>Education</th>\n      <th>EmployeeCount</th>\n      <th>EmployeeNumber</th>\n      <th>EnvironmentSatisfaction</th>\n      <th>HourlyRate</th>\n      <th>JobInvolvement</th>\n      <th>JobLevel</th>\n      <th>...</th>\n      <th>JobRole_Research Director</th>\n      <th>JobRole_Research Scientist</th>\n      <th>JobRole_Sales Executive</th>\n      <th>JobRole_Sales Representative</th>\n      <th>MaritalStatus_Divorced</th>\n      <th>MaritalStatus_Married</th>\n      <th>MaritalStatus_Single</th>\n      <th>Over18_Y</th>\n      <th>OverTime_No</th>\n      <th>OverTime_Yes</th>\n    </tr>\n  </thead>\n  <tbody>\n    <tr>\n      <th>0</th>\n      <td>41</td>\n      <td>1102</td>\n      <td>1</td>\n      <td>2</td>\n      <td>1</td>\n      <td>1</td>\n      <td>2</td>\n      <td>94</td>\n      <td>3</td>\n      <td>2</td>\n      <td>...</td>\n      <td>0.0</td>\n      <td>0.0</td>\n      <td>1.0</td>\n      <td>0.0</td>\n      <td>0.0</td>\n      <td>0.0</td>\n      <td>1.0</td>\n      <td>1.0</td>\n      <td>0.0</td>\n      <td>1.0</td>\n    </tr>\n    <tr>\n      <th>1</th>\n      <td>49</td>\n      <td>279</td>\n      <td>8</td>\n      <td>1</td>\n      <td>1</td>\n      <td>2</td>\n      <td>3</td>\n      <td>61</td>\n      <td>2</td>\n      <td>2</td>\n      <td>...</td>\n      <td>0.0</td>\n      <td>1.0</td>\n      <td>0.0</td>\n      <td>0.0</td>\n      <td>0.0</td>\n      <td>1.0</td>\n      <td>0.0</td>\n      <td>1.0</td>\n      <td>1.0</td>\n      <td>0.0</td>\n    </tr>\n    <tr>\n      <th>2</th>\n      <td>37</td>\n      <td>1373</td>\n      <td>2</td>\n      <td>2</td>\n      <td>1</td>\n      <td>4</td>\n      <td>4</td>\n      <td>92</td>\n      <td>2</td>\n      <td>1</td>\n      <td>...</td>\n      <td>0.0</td>\n      <td>0.0</td>\n      <td>0.0</td>\n      <td>0.0</td>\n      <td>0.0</td>\n      <td>0.0</td>\n      <td>1.0</td>\n      <td>1.0</td>\n      <td>0.0</td>\n      <td>1.0</td>\n    </tr>\n    <tr>\n      <th>3</th>\n      <td>33</td>\n      <td>1392</td>\n      <td>3</td>\n      <td>4</td>\n      <td>1</td>\n      <td>5</td>\n      <td>4</td>\n      <td>56</td>\n      <td>3</td>\n      <td>1</td>\n      <td>...</td>\n      <td>0.0</td>\n      <td>1.0</td>\n      <td>0.0</td>\n      <td>0.0</td>\n      <td>0.0</td>\n      <td>1.0</td>\n      <td>0.0</td>\n      <td>1.0</td>\n      <td>0.0</td>\n      <td>1.0</td>\n    </tr>\n    <tr>\n      <th>4</th>\n      <td>27</td>\n      <td>591</td>\n      <td>2</td>\n      <td>1</td>\n      <td>1</td>\n      <td>7</td>\n      <td>1</td>\n      <td>40</td>\n      <td>3</td>\n      <td>1</td>\n      <td>...</td>\n      <td>0.0</td>\n      <td>0.0</td>\n      <td>0.0</td>\n      <td>0.0</td>\n      <td>0.0</td>\n      <td>1.0</td>\n      <td>0.0</td>\n      <td>1.0</td>\n      <td>1.0</td>\n      <td>0.0</td>\n    </tr>\n  </tbody>\n</table>\n<p>5 rows × 57 columns</p>\n</div>"
     },
     "metadata": {},
     "execution_count": 48
    }
   ],
   "source": [
    "#merge encoded features and drop originals\n",
    "attrition_df = attrition_df.merge(encode_df, left_index=True, right_index=True)\n",
    "attrition_df = attrition_df.drop(attrition_cat, 1)\n",
    "attrition_df.head()"
   ]
  },
  {
   "cell_type": "code",
   "execution_count": 49,
   "metadata": {},
   "outputs": [],
   "source": [
    "#split preprocessed data into features and targets\n",
    "y = attrition_df[\"Attrition_Yes\"].values\n",
    "X = attrition_df.drop([\"Attrition_Yes\", \"Attrition_No\"],1).values\n",
    "\n",
    "#split preprocessed data into training and testing \n",
    "X_train, X_test, y_train, y_test = train_test_split(X, y, random_state=78)\n"
   ]
  },
  {
   "cell_type": "code",
   "execution_count": 50,
   "metadata": {},
   "outputs": [],
   "source": [
    "#create scaler instance\n",
    "scaler = StandardScaler()\n",
    "\n",
    "#fit scaler\n",
    "X_scaler = scaler.fit(X_train)\n",
    "\n",
    "#scale the data\n",
    "X_train_scaled = X_scaler.transform(X_train)\n",
    "X_test_scaled = X_scaler.transform(X_test)"
   ]
  },
  {
   "cell_type": "code",
   "execution_count": 51,
   "metadata": {
    "tags": []
   },
   "outputs": [
    {
     "output_type": "stream",
     "name": "stdout",
     "text": "Model: &quot;sequential_5&quot;\n_________________________________________________________________\nLayer (type)                 Output Shape              Param #   \n=================================================================\ndense_15 (Dense)             (None, 8)                 448       \n_________________________________________________________________\ndense_16 (Dense)             (None, 5)                 45        \n_________________________________________________________________\ndense_17 (Dense)             (None, 1)                 6         \n=================================================================\nTotal params: 499\nTrainable params: 499\nNon-trainable params: 0\n_________________________________________________________________\n"
    }
   ],
   "source": [
    "#define the model - deep neural network\n",
    "number_input_features = len(X_train[0])\n",
    "hidden_nodes_layer1 = 8\n",
    "hidden_nodes_layer2 = 5\n",
    "\n",
    "nn = tf.keras.models.Sequential()\n",
    "\n",
    "#first hidden layer\n",
    "nn.add(tf.keras.layers.Dense(units=hidden_nodes_layer1, input_dim=number_input_features, activation=\"relu\"))\n",
    "#second hidden layer\n",
    "nn.add(tf.keras.layers.Dense(units=hidden_nodes_layer2, input_dim=number_input_features, activation=\"relu\"))\n",
    "\n",
    "#output layer\n",
    "nn.add(tf.keras.layers.Dense(units=1, activation='sigmoid'))\n",
    "\n",
    "#check summary of model\n",
    "nn.summary()"
   ]
  },
  {
   "cell_type": "code",
   "execution_count": 52,
   "metadata": {},
   "outputs": [],
   "source": [
    "#compile the model\n",
    "nn.compile(loss=\"binary_crossentropy\", optimizer=\"adam\", metrics=[\"accuracy\"])"
   ]
  },
  {
   "cell_type": "code",
   "execution_count": 53,
   "metadata": {
    "tags": []
   },
   "outputs": [
    {
     "output_type": "stream",
     "name": "stdout",
     "text": "Train on 1102 samples\nEpoch 1/100\n1102/1102 [==============================] - 2s 2ms/sample - loss: 270.2114 - accuracy: 0.7314\nEpoch 2/100\n1102/1102 [==============================] - 0s 127us/sample - loss: 120.6930 - accuracy: 0.6688\nEpoch 3/100\n1102/1102 [==============================] - 0s 131us/sample - loss: 78.5721 - accuracy: 0.6815\nEpoch 4/100\n1102/1102 [==============================] - 0s 131us/sample - loss: 59.1491 - accuracy: 0.6887\nEpoch 5/100\n1102/1102 [==============================] - 0s 134us/sample - loss: 47.3018 - accuracy: 0.7223\nEpoch 6/100\n1102/1102 [==============================] - 0s 138us/sample - loss: 38.6510 - accuracy: 0.7223\nEpoch 7/100\n1102/1102 [==============================] - 0s 151us/sample - loss: 30.4520 - accuracy: 0.7087\nEpoch 8/100\n1102/1102 [==============================] - 0s 141us/sample - loss: 25.3576 - accuracy: 0.7296\nEpoch 9/100\n1102/1102 [==============================] - 0s 144us/sample - loss: 18.7525 - accuracy: 0.7250\nEpoch 10/100\n1102/1102 [==============================] - 0s 155us/sample - loss: 14.3583 - accuracy: 0.7377\nEpoch 11/100\n1102/1102 [==============================] - 0s 133us/sample - loss: 8.7139 - accuracy: 0.7450\nEpoch 12/100\n1102/1102 [==============================] - 0s 134us/sample - loss: 8.2904 - accuracy: 0.7405\nEpoch 13/100\n1102/1102 [==============================] - 0s 138us/sample - loss: 6.6976 - accuracy: 0.7459\nEpoch 14/100\n1102/1102 [==============================] - 0s 168us/sample - loss: 4.7760 - accuracy: 0.7568\nEpoch 15/100\n1102/1102 [==============================] - 0s 157us/sample - loss: 4.6435 - accuracy: 0.7541\nEpoch 16/100\n1102/1102 [==============================] - 0s 178us/sample - loss: 4.4158 - accuracy: 0.7677\nEpoch 17/100\n1102/1102 [==============================] - 0s 163us/sample - loss: 3.2572 - accuracy: 0.7695\nEpoch 18/100\n1102/1102 [==============================] - 0s 129us/sample - loss: 3.5856 - accuracy: 0.7559\nEpoch 19/100\n1102/1102 [==============================] - 0s 123us/sample - loss: 5.8253 - accuracy: 0.7160\nEpoch 20/100\n1102/1102 [==============================] - 0s 144us/sample - loss: 2.5603 - accuracy: 0.7623\nEpoch 21/100\n1102/1102 [==============================] - 0s 119us/sample - loss: 2.9273 - accuracy: 0.7568\nEpoch 22/100\n1102/1102 [==============================] - 0s 121us/sample - loss: 2.8798 - accuracy: 0.7604\nEpoch 23/100\n1102/1102 [==============================] - 0s 129us/sample - loss: 4.5596 - accuracy: 0.7532\nEpoch 24/100\n1102/1102 [==============================] - 0s 133us/sample - loss: 4.9851 - accuracy: 0.7368\nEpoch 25/100\n1102/1102 [==============================] - 0s 134us/sample - loss: 3.2028 - accuracy: 0.7550\nEpoch 26/100\n1102/1102 [==============================] - 0s 137us/sample - loss: 2.6181 - accuracy: 0.7432\nEpoch 27/100\n1102/1102 [==============================] - 0s 135us/sample - loss: 1.8073 - accuracy: 0.7759\nEpoch 28/100\n1102/1102 [==============================] - 0s 141us/sample - loss: 1.9005 - accuracy: 0.7659\nEpoch 29/100\n1102/1102 [==============================] - 0s 159us/sample - loss: 1.9531 - accuracy: 0.7704\nEpoch 30/100\n1102/1102 [==============================] - 0s 145us/sample - loss: 1.5548 - accuracy: 0.7813\nEpoch 31/100\n1102/1102 [==============================] - 0s 133us/sample - loss: 1.8788 - accuracy: 0.7786\nEpoch 32/100\n1102/1102 [==============================] - 0s 157us/sample - loss: 1.7856 - accuracy: 0.7695\nEpoch 33/100\n1102/1102 [==============================] - 0s 150us/sample - loss: 2.1636 - accuracy: 0.7568\nEpoch 34/100\n1102/1102 [==============================] - 0s 119us/sample - loss: 3.3624 - accuracy: 0.7550\nEpoch 35/100\n1102/1102 [==============================] - 0s 122us/sample - loss: 1.7610 - accuracy: 0.7595\nEpoch 36/100\n1102/1102 [==============================] - 0s 145us/sample - loss: 2.1696 - accuracy: 0.7559\nEpoch 37/100\n1102/1102 [==============================] - 0s 159us/sample - loss: 1.4331 - accuracy: 0.7722\nEpoch 38/100\n1102/1102 [==============================] - 0s 176us/sample - loss: 1.5062 - accuracy: 0.7505\nEpoch 39/100\n1102/1102 [==============================] - 0s 174us/sample - loss: 1.8729 - accuracy: 0.7822\nEpoch 40/100\n1102/1102 [==============================] - 0s 177us/sample - loss: 1.5998 - accuracy: 0.7940\nEpoch 41/100\n1102/1102 [==============================] - 0s 145us/sample - loss: 2.7921 - accuracy: 0.7577\nEpoch 42/100\n1102/1102 [==============================] - 0s 159us/sample - loss: 2.8326 - accuracy: 0.7532\nEpoch 43/100\n1102/1102 [==============================] - 0s 167us/sample - loss: 1.9413 - accuracy: 0.7568\nEpoch 44/100\n1102/1102 [==============================] - 0s 156us/sample - loss: 1.6361 - accuracy: 0.7650\nEpoch 45/100\n1102/1102 [==============================] - 0s 158us/sample - loss: 2.5495 - accuracy: 0.7532\nEpoch 46/100\n1102/1102 [==============================] - 0s 163us/sample - loss: 3.5986 - accuracy: 0.7405\nEpoch 47/100\n1102/1102 [==============================] - 0s 158us/sample - loss: 2.4992 - accuracy: 0.7577\nEpoch 48/100\n1102/1102 [==============================] - 0s 197us/sample - loss: 1.9506 - accuracy: 0.7559\nEpoch 49/100\n1102/1102 [==============================] - 0s 161us/sample - loss: 1.5606 - accuracy: 0.7759\nEpoch 50/100\n1102/1102 [==============================] - 0s 141us/sample - loss: 2.6707 - accuracy: 0.7432\nEpoch 51/100\n1102/1102 [==============================] - 0s 133us/sample - loss: 2.1035 - accuracy: 0.7695\nEpoch 52/100\n1102/1102 [==============================] - 0s 135us/sample - loss: 2.7815 - accuracy: 0.7595\nEpoch 53/100\n1102/1102 [==============================] - 0s 129us/sample - loss: 4.2737 - accuracy: 0.7296\nEpoch 54/100\n1102/1102 [==============================] - 0s 151us/sample - loss: 2.0037 - accuracy: 0.7641\nEpoch 55/100\n1102/1102 [==============================] - 0s 147us/sample - loss: 1.8453 - accuracy: 0.7613\nEpoch 56/100\n1102/1102 [==============================] - 0s 133us/sample - loss: 4.3318 - accuracy: 0.7559\nEpoch 57/100\n1102/1102 [==============================] - 0s 132us/sample - loss: 1.7083 - accuracy: 0.7759\nEpoch 58/100\n1102/1102 [==============================] - 0s 137us/sample - loss: 0.9837 - accuracy: 0.8076\nEpoch 59/100\n1102/1102 [==============================] - 0s 140us/sample - loss: 1.3516 - accuracy: 0.7768\nEpoch 60/100\n1102/1102 [==============================] - 0s 149us/sample - loss: 1.5745 - accuracy: 0.7786\nEpoch 61/100\n1102/1102 [==============================] - 0s 127us/sample - loss: 2.8415 - accuracy: 0.7514\nEpoch 62/100\n1102/1102 [==============================] - 0s 132us/sample - loss: 2.1387 - accuracy: 0.7704\nEpoch 63/100\n1102/1102 [==============================] - 0s 125us/sample - loss: 1.5387 - accuracy: 0.7559\nEpoch 64/100\n1102/1102 [==============================] - 0s 131us/sample - loss: 1.0462 - accuracy: 0.8076\nEpoch 65/100\n1102/1102 [==============================] - 0s 137us/sample - loss: 0.8033 - accuracy: 0.8103\nEpoch 66/100\n1102/1102 [==============================] - 0s 146us/sample - loss: 1.9422 - accuracy: 0.7813\nEpoch 67/100\n1102/1102 [==============================] - 0s 131us/sample - loss: 1.7383 - accuracy: 0.7704\nEpoch 68/100\n1102/1102 [==============================] - 0s 128us/sample - loss: 1.3361 - accuracy: 0.7931\nEpoch 69/100\n1102/1102 [==============================] - 0s 149us/sample - loss: 1.3259 - accuracy: 0.7731\nEpoch 70/100\n1102/1102 [==============================] - 0s 167us/sample - loss: 2.1013 - accuracy: 0.7659\nEpoch 71/100\n1102/1102 [==============================] - 0s 166us/sample - loss: 1.3147 - accuracy: 0.7995\nEpoch 72/100\n1102/1102 [==============================] - 0s 161us/sample - loss: 0.9209 - accuracy: 0.7922\nEpoch 73/100\n1102/1102 [==============================] - 0s 161us/sample - loss: 0.8826 - accuracy: 0.8149\nEpoch 74/100\n1102/1102 [==============================] - 0s 158us/sample - loss: 0.9059 - accuracy: 0.8167\nEpoch 75/100\n1102/1102 [==============================] - 0s 186us/sample - loss: 1.3236 - accuracy: 0.7922\nEpoch 76/100\n1102/1102 [==============================] - 0s 147us/sample - loss: 1.6154 - accuracy: 0.7668\nEpoch 77/100\n1102/1102 [==============================] - 0s 164us/sample - loss: 1.8552 - accuracy: 0.7913\nEpoch 78/100\n1102/1102 [==============================] - 0s 160us/sample - loss: 2.5742 - accuracy: 0.7632\nEpoch 79/100\n1102/1102 [==============================] - 0s 162us/sample - loss: 1.4463 - accuracy: 0.7731\nEpoch 80/100\n1102/1102 [==============================] - 0s 161us/sample - loss: 1.4334 - accuracy: 0.7795\nEpoch 81/100\n1102/1102 [==============================] - 0s 149us/sample - loss: 1.7778 - accuracy: 0.7441\nEpoch 82/100\n1102/1102 [==============================] - 0s 158us/sample - loss: 1.4434 - accuracy: 0.7858\nEpoch 83/100\n1102/1102 [==============================] - 0s 147us/sample - loss: 1.0069 - accuracy: 0.8185\nEpoch 84/100\n1102/1102 [==============================] - 0s 132us/sample - loss: 1.3672 - accuracy: 0.7922\nEpoch 85/100\n1102/1102 [==============================] - 0s 140us/sample - loss: 1.6604 - accuracy: 0.7822\nEpoch 86/100\n1102/1102 [==============================] - 0s 145us/sample - loss: 1.6469 - accuracy: 0.7840\nEpoch 87/100\n1102/1102 [==============================] - 0s 144us/sample - loss: 1.3933 - accuracy: 0.7840\nEpoch 88/100\n1102/1102 [==============================] - 0s 132us/sample - loss: 1.7869 - accuracy: 0.7750\nEpoch 89/100\n1102/1102 [==============================] - 0s 131us/sample - loss: 3.4670 - accuracy: 0.7713\nEpoch 90/100\n1102/1102 [==============================] - 0s 135us/sample - loss: 1.3814 - accuracy: 0.7904\nEpoch 91/100\n1102/1102 [==============================] - 0s 150us/sample - loss: 1.5323 - accuracy: 0.7759\nEpoch 92/100\n1102/1102 [==============================] - 0s 166us/sample - loss: 2.1537 - accuracy: 0.7740\nEpoch 93/100\n1102/1102 [==============================] - 0s 166us/sample - loss: 2.1476 - accuracy: 0.7777\nEpoch 94/100\n1102/1102 [==============================] - 0s 151us/sample - loss: 1.2280 - accuracy: 0.7967\nEpoch 95/100\n1102/1102 [==============================] - 0s 158us/sample - loss: 2.1736 - accuracy: 0.7668\nEpoch 96/100\n1102/1102 [==============================] - 0s 161us/sample - loss: 1.2150 - accuracy: 0.7995\nEpoch 97/100\n1102/1102 [==============================] - 0s 151us/sample - loss: 1.9406 - accuracy: 0.7686\nEpoch 98/100\n1102/1102 [==============================] - 0s 157us/sample - loss: 2.7551 - accuracy: 0.7532\nEpoch 99/100\n1102/1102 [==============================] - 0s 141us/sample - loss: 1.0719 - accuracy: 0.8058\nEpoch 100/100\n1102/1102 [==============================] - 0s 168us/sample - loss: 1.6226 - accuracy: 0.7750\n"
    }
   ],
   "source": [
    "#train the model\n",
    "fit_model = nn.fit(X_train, y_train, epochs=100)\n"
   ]
  },
  {
   "cell_type": "code",
   "execution_count": 54,
   "metadata": {
    "tags": []
   },
   "outputs": [
    {
     "output_type": "stream",
     "name": "stdout",
     "text": "368/1 - 0s - loss: 2.3590 - accuracy: 0.8614\nLoss: 2.62156503615172, Accuracy: 0.8614130616188049\n"
    }
   ],
   "source": [
    "#evaluate model using test data\n",
    "model_loss, model_accuracy = nn.evaluate(X_test, y_test, verbose=2)\n",
    "print(f\"Loss: {model_loss}, Accuracy: {model_accuracy}\")"
   ]
  },
  {
   "cell_type": "code",
   "execution_count": 55,
   "metadata": {
    "tags": [
     "outputPrepend"
    ]
   },
   "outputs": [
    {
     "output_type": "stream",
     "name": "stdout",
     "text": "Epoch 26/100\n 384/1102 [=========&gt;....................] - ETA: 0s - loss: 0.2734 - accuracy: 0.8880\nEpoch 00026: saving model to checkpoints/weights.26.hdf5\n1102/1102 [==============================] - 0s 151us/sample - loss: 0.2927 - accuracy: 0.8848\nEpoch 27/100\n 448/1102 [===========&gt;..................] - ETA: 0s - loss: 0.2919 - accuracy: 0.8884\nEpoch 00027: saving model to checkpoints/weights.27.hdf5\n1102/1102 [==============================] - 0s 173us/sample - loss: 0.2907 - accuracy: 0.8866\nEpoch 28/100\n 288/1102 [======&gt;.......................] - ETA: 0s - loss: 0.2977 - accuracy: 0.8854\nEpoch 00028: saving model to checkpoints/weights.28.hdf5\n1102/1102 [==============================] - 0s 231us/sample - loss: 0.2880 - accuracy: 0.8884\nEpoch 29/100\n 320/1102 [=======&gt;......................] - ETA: 0s - loss: 0.2694 - accuracy: 0.8969\nEpoch 00029: saving model to checkpoints/weights.29.hdf5\n1102/1102 [==============================] - 0s 178us/sample - loss: 0.2858 - accuracy: 0.8866\nEpoch 30/100\n  32/1102 [..............................] - ETA: 0s - loss: 0.3810 - accuracy: 0.8750\nEpoch 00030: saving model to checkpoints/weights.30.hdf5\n1102/1102 [==============================] - 0s 148us/sample - loss: 0.2837 - accuracy: 0.8875\nEpoch 31/100\n  32/1102 [..............................] - ETA: 0s - loss: 0.1737 - accuracy: 0.9062\nEpoch 00031: saving model to checkpoints/weights.31.hdf5\n1102/1102 [==============================] - 0s 176us/sample - loss: 0.2822 - accuracy: 0.8893\nEpoch 32/100\n  32/1102 [..............................] - ETA: 0s - loss: 0.3125 - accuracy: 0.8750\nEpoch 00032: saving model to checkpoints/weights.32.hdf5\n1056/1102 [===========================&gt;..] - ETA: 0s - loss: 0.2784 - accuracy: 0.8920\nEpoch 00032: saving model to checkpoints/weights.32.hdf5\n1102/1102 [==============================] - 0s 234us/sample - loss: 0.2795 - accuracy: 0.8911\nEpoch 33/100\n 800/1102 [====================&gt;.........] - ETA: 0s - loss: 0.2675 - accuracy: 0.9000\nEpoch 00033: saving model to checkpoints/weights.33.hdf5\n1102/1102 [==============================] - 0s 163us/sample - loss: 0.2769 - accuracy: 0.8902\nEpoch 34/100\n 736/1102 [===================&gt;..........] - ETA: 0s - loss: 0.2815 - accuracy: 0.8872\nEpoch 00034: saving model to checkpoints/weights.34.hdf5\n1102/1102 [==============================] - 0s 178us/sample - loss: 0.2751 - accuracy: 0.8938\nEpoch 35/100\n 704/1102 [==================&gt;...........] - ETA: 0s - loss: 0.2757 - accuracy: 0.8949\nEpoch 00035: saving model to checkpoints/weights.35.hdf5\n1102/1102 [==============================] - 0s 201us/sample - loss: 0.2728 - accuracy: 0.8920\nEpoch 36/100\n 640/1102 [================&gt;.............] - ETA: 0s - loss: 0.2849 - accuracy: 0.8844\nEpoch 00036: saving model to checkpoints/weights.36.hdf5\n1102/1102 [==============================] - 0s 190us/sample - loss: 0.2708 - accuracy: 0.8947\nEpoch 37/100\n 352/1102 [========&gt;.....................] - ETA: 0s - loss: 0.2578 - accuracy: 0.8864\nEpoch 00037: saving model to checkpoints/weights.37.hdf5\n1102/1102 [==============================] - 0s 184us/sample - loss: 0.2686 - accuracy: 0.8947\nEpoch 38/100\n 384/1102 [=========&gt;....................] - ETA: 0s - loss: 0.2841 - accuracy: 0.8854\nEpoch 00038: saving model to checkpoints/weights.38.hdf5\n1102/1102 [==============================] - 0s 180us/sample - loss: 0.2668 - accuracy: 0.8938\nEpoch 39/100\n 416/1102 [==========&gt;...................] - ETA: 0s - loss: 0.2651 - accuracy: 0.9087\nEpoch 00039: saving model to checkpoints/weights.39.hdf5\n1102/1102 [==============================] - 0s 180us/sample - loss: 0.2650 - accuracy: 0.8947\nEpoch 40/100\n  32/1102 [..............................] - ETA: 0s - loss: 0.4461 - accuracy: 0.8438\nEpoch 00040: saving model to checkpoints/weights.40.hdf5\n1102/1102 [==============================] - 0s 160us/sample - loss: 0.2629 - accuracy: 0.8966\nEpoch 41/100\n  32/1102 [..............................] - ETA: 0s - loss: 0.1859 - accuracy: 0.9062\nEpoch 00041: saving model to checkpoints/weights.41.hdf5\n1102/1102 [==============================] - 0s 188us/sample - loss: 0.2614 - accuracy: 0.8984\nEpoch 42/100\n  32/1102 [..............................] - ETA: 0s - loss: 0.2060 - accuracy: 0.9375\nEpoch 00042: saving model to checkpoints/weights.42.hdf5\n1102/1102 [==============================] - 0s 181us/sample - loss: 0.2599 - accuracy: 0.9002\nEpoch 43/100\n  32/1102 [..............................] - ETA: 0s - loss: 0.2514 - accuracy: 0.8750\nEpoch 00043: saving model to checkpoints/weights.43.hdf5\n 864/1102 [======================&gt;.......] - ETA: 0s - loss: 0.2453 - accuracy: 0.9074\nEpoch 00043: saving model to checkpoints/weights.43.hdf5\n1102/1102 [==============================] - 0s 209us/sample - loss: 0.2577 - accuracy: 0.9011\nEpoch 44/100\n 736/1102 [===================&gt;..........] - ETA: 0s - loss: 0.2691 - accuracy: 0.8981\nEpoch 00044: saving model to checkpoints/weights.44.hdf5\n1102/1102 [==============================] - 0s 167us/sample - loss: 0.2560 - accuracy: 0.9011\nEpoch 45/100\n 800/1102 [====================&gt;.........] - ETA: 0s - loss: 0.2408 - accuracy: 0.9100\nEpoch 00045: saving model to checkpoints/weights.45.hdf5\n1102/1102 [==============================] - 0s 179us/sample - loss: 0.2537 - accuracy: 0.9047\nEpoch 46/100\n 736/1102 [===================&gt;..........] - ETA: 0s - loss: 0.2519 - accuracy: 0.9144\nEpoch 00046: saving model to checkpoints/weights.46.hdf5\n1102/1102 [==============================] - 0s 176us/sample - loss: 0.2520 - accuracy: 0.9065\nEpoch 47/100\n 384/1102 [=========&gt;....................] - ETA: 0s - loss: 0.2769 - accuracy: 0.9036\nEpoch 00047: saving model to checkpoints/weights.47.hdf5\n1102/1102 [==============================] - 0s 166us/sample - loss: 0.2499 - accuracy: 0.9074\nEpoch 48/100\n 416/1102 [==========&gt;...................] - ETA: 0s - loss: 0.2965 - accuracy: 0.8846\nEpoch 00048: saving model to checkpoints/weights.48.hdf5\n1102/1102 [==============================] - 0s 165us/sample - loss: 0.2483 - accuracy: 0.9056\nEpoch 49/100\n 416/1102 [==========&gt;...................] - ETA: 0s - loss: 0.2581 - accuracy: 0.8990\nEpoch 00049: saving model to checkpoints/weights.49.hdf5\n1102/1102 [==============================] - 0s 168us/sample - loss: 0.2474 - accuracy: 0.9056\nEpoch 50/100\n 384/1102 [=========&gt;....................] - ETA: 0s - loss: 0.2207 - accuracy: 0.9219\nEpoch 00050: saving model to checkpoints/weights.50.hdf5\n1102/1102 [==============================] - 0s 183us/sample - loss: 0.2448 - accuracy: 0.9083\nEpoch 51/100\n  32/1102 [..............................] - ETA: 0s - loss: 0.2283 - accuracy: 0.9062\nEpoch 00051: saving model to checkpoints/weights.51.hdf5\n1102/1102 [==============================] - 0s 198us/sample - loss: 0.2428 - accuracy: 0.9074\nEpoch 52/100\n  32/1102 [..............................] - ETA: 0s - loss: 0.4130 - accuracy: 0.8750\nEpoch 00052: saving model to checkpoints/weights.52.hdf5\n1102/1102 [==============================] - 0s 164us/sample - loss: 0.2416 - accuracy: 0.9102\nEpoch 53/100\n  32/1102 [..............................] - ETA: 0s - loss: 0.3447 - accuracy: 0.9062\nEpoch 00053: saving model to checkpoints/weights.53.hdf5\n1102/1102 [==============================] - 0s 160us/sample - loss: 0.2401 - accuracy: 0.9102\nEpoch 54/100\n\nEpoch 00054: saving model to checkpoints/weights.54.hdf5\n 736/1102 [===================&gt;..........] - ETA: 0s - loss: 0.2406 - accuracy: 0.9090\nEpoch 00054: saving model to checkpoints/weights.54.hdf5\n1102/1102 [==============================] - 0s 178us/sample - loss: 0.2383 - accuracy: 0.9093\nEpoch 55/100\n 768/1102 [===================&gt;..........] - ETA: 0s - loss: 0.2280 - accuracy: 0.9167\nEpoch 00055: saving model to checkpoints/weights.55.hdf5\n1102/1102 [==============================] - 0s 160us/sample - loss: 0.2367 - accuracy: 0.9111\nEpoch 56/100\n 800/1102 [====================&gt;.........] - ETA: 0s - loss: 0.2455 - accuracy: 0.9075\nEpoch 00056: saving model to checkpoints/weights.56.hdf5\n1102/1102 [==============================] - 0s 164us/sample - loss: 0.2350 - accuracy: 0.9120\nEpoch 57/100\n 384/1102 [=========&gt;....................] - ETA: 0s - loss: 0.2247 - accuracy: 0.9115\nEpoch 00057: saving model to checkpoints/weights.57.hdf5\n1102/1102 [==============================] - 0s 157us/sample - loss: 0.2332 - accuracy: 0.9129\nEpoch 58/100\n 448/1102 [===========&gt;..................] - ETA: 0s - loss: 0.2352 - accuracy: 0.9107\nEpoch 00058: saving model to checkpoints/weights.58.hdf5\n1102/1102 [==============================] - 0s 160us/sample - loss: 0.2326 - accuracy: 0.9120\nEpoch 59/100\n 448/1102 [===========&gt;..................] - ETA: 0s - loss: 0.2490 - accuracy: 0.9107\nEpoch 00059: saving model to checkpoints/weights.59.hdf5\n1102/1102 [==============================] - 0s 159us/sample - loss: 0.2305 - accuracy: 0.9111\nEpoch 60/100\n 416/1102 [==========&gt;...................] - ETA: 0s - loss: 0.1957 - accuracy: 0.9255\nEpoch 00060: saving model to checkpoints/weights.60.hdf5\n1102/1102 [==============================] - 0s 172us/sample - loss: 0.2301 - accuracy: 0.9074\nEpoch 61/100\n  32/1102 [..............................] - ETA: 0s - loss: 0.1852 - accuracy: 0.9688\nEpoch 00061: saving model to checkpoints/weights.61.hdf5\n1102/1102 [==============================] - 0s 163us/sample - loss: 0.2281 - accuracy: 0.9138\nEpoch 62/100\n  32/1102 [..............................] - ETA: 0s - loss: 0.1693 - accuracy: 0.9688\nEpoch 00062: saving model to checkpoints/weights.62.hdf5\n1102/1102 [==============================] - 0s 133us/sample - loss: 0.2264 - accuracy: 0.9129\nEpoch 63/100\n  32/1102 [..............................] - ETA: 0s - loss: 0.2463 - accuracy: 0.8750\nEpoch 00063: saving model to checkpoints/weights.63.hdf5\n1102/1102 [==============================] - 0s 145us/sample - loss: 0.2253 - accuracy: 0.9129\nEpoch 64/100\n  32/1102 [..............................] - ETA: 0s - loss: 0.3040 - accuracy: 0.8750\nEpoch 00064: saving model to checkpoints/weights.64.hdf5\n1088/1102 [============================&gt;.] - ETA: 0s - loss: 0.2242 - accuracy: 0.9127\nEpoch 00064: saving model to checkpoints/weights.64.hdf5\n1102/1102 [==============================] - 0s 177us/sample - loss: 0.2232 - accuracy: 0.9138\nEpoch 65/100\n 800/1102 [====================&gt;.........] - ETA: 0s - loss: 0.2275 - accuracy: 0.9062\nEpoch 00065: saving model to checkpoints/weights.65.hdf5\n1102/1102 [==============================] - 0s 183us/sample - loss: 0.2225 - accuracy: 0.9138\nEpoch 66/100\n 896/1102 [=======================&gt;......] - ETA: 0s - loss: 0.2164 - accuracy: 0.9152\nEpoch 00066: saving model to checkpoints/weights.66.hdf5\n1102/1102 [==============================] - 0s 289us/sample - loss: 0.2209 - accuracy: 0.9147\nEpoch 67/100\n 480/1102 [============&gt;.................] - ETA: 0s - loss: 0.2388 - accuracy: 0.9062\nEpoch 00067: saving model to checkpoints/weights.67.hdf5\n1102/1102 [==============================] - 0s 212us/sample - loss: 0.2202 - accuracy: 0.9120\nEpoch 68/100\n 608/1102 [===============&gt;..............] - ETA: 0s - loss: 0.2251 - accuracy: 0.9062\nEpoch 00068: saving model to checkpoints/weights.68.hdf5\n1102/1102 [==============================] - 0s 209us/sample - loss: 0.2189 - accuracy: 0.9129\nEpoch 69/100\n 352/1102 [========&gt;.....................] - ETA: 0s - loss: 0.2018 - accuracy: 0.9148\nEpoch 00069: saving model to checkpoints/weights.69.hdf5\n1102/1102 [==============================] - 0s 193us/sample - loss: 0.2179 - accuracy: 0.9147\nEpoch 70/100\n 384/1102 [=========&gt;....................] - ETA: 0s - loss: 0.2179 - accuracy: 0.9141\nEpoch 00070: saving model to checkpoints/weights.70.hdf5\n1102/1102 [==============================] - 0s 180us/sample - loss: 0.2168 - accuracy: 0.9129\nEpoch 71/100\n 384/1102 [=========&gt;....................] - ETA: 0s - loss: 0.2132 - accuracy: 0.9193\nEpoch 00071: saving model to checkpoints/weights.71.hdf5\n1102/1102 [==============================] - 0s 167us/sample - loss: 0.2157 - accuracy: 0.9183\nEpoch 72/100\n  32/1102 [..............................] - ETA: 0s - loss: 0.2211 - accuracy: 0.9062\nEpoch 00072: saving model to checkpoints/weights.72.hdf5\n1102/1102 [==============================] - 0s 183us/sample - loss: 0.2144 - accuracy: 0.9156\nEpoch 73/100\n  32/1102 [..............................] - ETA: 0s - loss: 0.1396 - accuracy: 0.9375\nEpoch 00073: saving model to checkpoints/weights.73.hdf5\n1102/1102 [==============================] - 0s 181us/sample - loss: 0.2129 - accuracy: 0.9174\nEpoch 74/100\n  32/1102 [..............................] - ETA: 0s - loss: 0.2301 - accuracy: 0.8750\nEpoch 00074: saving model to checkpoints/weights.74.hdf5\n1102/1102 [==============================] - 0s 170us/sample - loss: 0.2115 - accuracy: 0.9183\nEpoch 75/100\n  32/1102 [..............................] - ETA: 0s - loss: 0.3636 - accuracy: 0.8438\nEpoch 00075: saving model to checkpoints/weights.75.hdf5\n 768/1102 [===================&gt;..........] - ETA: 0s - loss: 0.2072 - accuracy: 0.9219\nEpoch 00075: saving model to checkpoints/weights.75.hdf5\n1102/1102 [==============================] - 0s 234us/sample - loss: 0.2109 - accuracy: 0.9165\nEpoch 76/100\n 928/1102 [========================&gt;.....] - ETA: 0s - loss: 0.1943 - accuracy: 0.9224\nEpoch 00076: saving model to checkpoints/weights.76.hdf5\n1102/1102 [==============================] - 0s 202us/sample - loss: 0.2106 - accuracy: 0.9165\nEpoch 77/100\n 704/1102 [==================&gt;...........] - ETA: 0s - loss: 0.1988 - accuracy: 0.9290\nEpoch 00077: saving model to checkpoints/weights.77.hdf5\n1102/1102 [==============================] - 0s 175us/sample - loss: 0.2087 - accuracy: 0.9220\nEpoch 78/100\n 640/1102 [================&gt;.............] - ETA: 0s - loss: 0.2026 - accuracy: 0.9203\nEpoch 00078: saving model to checkpoints/weights.78.hdf5\n1102/1102 [==============================] - 0s 203us/sample - loss: 0.2076 - accuracy: 0.9183\nEpoch 79/100\n 672/1102 [=================&gt;............] - ETA: 0s - loss: 0.2232 - accuracy: 0.9152\nEpoch 00079: saving model to checkpoints/weights.79.hdf5\n1102/1102 [==============================] - 0s 185us/sample - loss: 0.2067 - accuracy: 0.9211\nEpoch 80/100\n 448/1102 [===========&gt;..................] - ETA: 0s - loss: 0.2117 - accuracy: 0.9107\nEpoch 00080: saving model to checkpoints/weights.80.hdf5\n1102/1102 [==============================] - 0s 159us/sample - loss: 0.2053 - accuracy: 0.9192\nEpoch 81/100\n 448/1102 [===========&gt;..................] - ETA: 0s - loss: 0.1991 - accuracy: 0.9241\nEpoch 00081: saving model to checkpoints/weights.81.hdf5\n1102/1102 [==============================] - 0s 169us/sample - loss: 0.2037 - accuracy: 0.9192\nEpoch 82/100\n  32/1102 [..............................] - ETA: 0s - loss: 0.2524 - accuracy: 0.9062\nEpoch 00082: saving model to checkpoints/weights.82.hdf5\n1102/1102 [==============================] - 0s 179us/sample - loss: 0.2034 - accuracy: 0.9211\nEpoch 83/100\n  32/1102 [..............................] - ETA: 0s - loss: 0.2030 - accuracy: 0.9375\nEpoch 00083: saving model to checkpoints/weights.83.hdf5\n1102/1102 [==============================] - 0s 190us/sample - loss: 0.2015 - accuracy: 0.9201\nEpoch 84/100\n  32/1102 [..............................] - ETA: 0s - loss: 0.3000 - accuracy: 0.8750\nEpoch 00084: saving model to checkpoints/weights.84.hdf5\n1102/1102 [==============================] - 0s 188us/sample - loss: 0.2000 - accuracy: 0.9201\nEpoch 85/100\n  32/1102 [..............................] - ETA: 0s - loss: 0.1702 - accuracy: 0.9688\nEpoch 00085: saving model to checkpoints/weights.85.hdf5\n1102/1102 [==============================] - 0s 189us/sample - loss: 0.1992 - accuracy: 0.9238\nEpoch 86/100\n\nEpoch 00086: saving model to checkpoints/weights.86.hdf5\n 960/1102 [=========================&gt;....] - ETA: 0s - loss: 0.1930 - accuracy: 0.9240\nEpoch 00086: saving model to checkpoints/weights.86.hdf5\n1102/1102 [==============================] - 0s 209us/sample - loss: 0.1981 - accuracy: 0.9211\nEpoch 87/100\n 704/1102 [==================&gt;...........] - ETA: 0s - loss: 0.1918 - accuracy: 0.9247\nEpoch 00087: saving model to checkpoints/weights.87.hdf5\n1102/1102 [==============================] - 0s 180us/sample - loss: 0.1972 - accuracy: 0.9229\nEpoch 88/100\n 576/1102 [==============&gt;...............] - ETA: 0s - loss: 0.2013 - accuracy: 0.9219\nEpoch 00088: saving model to checkpoints/weights.88.hdf5\n1102/1102 [==============================] - 0s 199us/sample - loss: 0.1958 - accuracy: 0.9238\nEpoch 89/100\n 736/1102 [===================&gt;..........] - ETA: 0s - loss: 0.1926 - accuracy: 0.9253\nEpoch 00089: saving model to checkpoints/weights.89.hdf5\n1102/1102 [==============================] - 0s 181us/sample - loss: 0.1953 - accuracy: 0.9229\nEpoch 90/100\n 384/1102 [=========&gt;....................] - ETA: 0s - loss: 0.1961 - accuracy: 0.9245\nEpoch 00090: saving model to checkpoints/weights.90.hdf5\n1102/1102 [==============================] - 0s 181us/sample - loss: 0.1934 - accuracy: 0.9238\nEpoch 91/100\n 320/1102 [=======&gt;......................] - ETA: 0s - loss: 0.1694 - accuracy: 0.9406\nEpoch 00091: saving model to checkpoints/weights.91.hdf5\n1102/1102 [==============================] - 0s 183us/sample - loss: 0.1928 - accuracy: 0.9247\nEpoch 92/100\n 448/1102 [===========&gt;..................] - ETA: 0s - loss: 0.1806 - accuracy: 0.9263\nEpoch 00092: saving model to checkpoints/weights.92.hdf5\n1102/1102 [==============================] - 0s 155us/sample - loss: 0.1916 - accuracy: 0.9256\nEpoch 93/100\n  32/1102 [..............................] - ETA: 0s - loss: 0.1551 - accuracy: 0.9375\nEpoch 00093: saving model to checkpoints/weights.93.hdf5\n1102/1102 [==============================] - 0s 167us/sample - loss: 0.1906 - accuracy: 0.9247\nEpoch 94/100\n  32/1102 [..............................] - ETA: 0s - loss: 0.2860 - accuracy: 0.9062\nEpoch 00094: saving model to checkpoints/weights.94.hdf5\n1102/1102 [==============================] - 0s 172us/sample - loss: 0.1894 - accuracy: 0.9247\nEpoch 95/100\n  32/1102 [..............................] - ETA: 0s - loss: 0.2405 - accuracy: 0.9375\nEpoch 00095: saving model to checkpoints/weights.95.hdf5\n1102/1102 [==============================] - 0s 209us/sample - loss: 0.1884 - accuracy: 0.9265\nEpoch 96/100\n  32/1102 [..............................] - ETA: 0s - loss: 0.1558 - accuracy: 0.9062\nEpoch 00096: saving model to checkpoints/weights.96.hdf5\n 832/1102 [=====================&gt;........] - ETA: 0s - loss: 0.2017 - accuracy: 0.9159\nEpoch 00096: saving model to checkpoints/weights.96.hdf5\n1102/1102 [==============================] - 0s 204us/sample - loss: 0.1874 - accuracy: 0.9247\nEpoch 97/100\n 672/1102 [=================&gt;............] - ETA: 0s - loss: 0.1847 - accuracy: 0.9271\nEpoch 00097: saving model to checkpoints/weights.97.hdf5\n1102/1102 [==============================] - 0s 186us/sample - loss: 0.1864 - accuracy: 0.9256\nEpoch 98/100\n 736/1102 [===================&gt;..........] - ETA: 0s - loss: 0.1915 - accuracy: 0.9226\nEpoch 00098: saving model to checkpoints/weights.98.hdf5\n1102/1102 [==============================] - 0s 178us/sample - loss: 0.1849 - accuracy: 0.9247\nEpoch 99/100\n 736/1102 [===================&gt;..........] - ETA: 0s - loss: 0.1950 - accuracy: 0.9253\nEpoch 00099: saving model to checkpoints/weights.99.hdf5\n1102/1102 [==============================] - 0s 179us/sample - loss: 0.1838 - accuracy: 0.9265\nEpoch 100/100\n 416/1102 [==========&gt;...................] - ETA: 0s - loss: 0.2134 - accuracy: 0.9111\nEpoch 00100: saving model to checkpoints/weights.100.hdf5\n1102/1102 [==============================] - 0s 173us/sample - loss: 0.1836 - accuracy: 0.9274\n368/1 - 0s - loss: 0.1873 - accuracy: 0.8723\nLoss: 0.3470928091555834, Accuracy: 0.8722826242446899\n"
    }
   ],
   "source": [
    "# Compile the model\n",
    "nn.compile(loss=\"binary_crossentropy\", optimizer=\"adam\", metrics=[\"accuracy\"])\n",
    "\n",
    "# Create a callback that saves the model's weights every 5 epochs\n",
    "cp_callback = ModelCheckpoint(\n",
    "    filepath=checkpoint_path,\n",
    "    verbose=1,\n",
    "    save_weights_only=True,\n",
    "    save_freq=1000)\n",
    "\n",
    "# Train the model\n",
    "fit_model = nn.fit(X_train_scaled,y_train,epochs=100,callbacks=[cp_callback])\n",
    "\n",
    "# Evaluate the model using the test data\n",
    "model_loss, model_accuracy = nn.evaluate(X_test_scaled,y_test,verbose=2)\n",
    "print(f\"Loss: {model_loss}, Accuracy: {model_accuracy}\")"
   ]
  },
  {
   "cell_type": "code",
   "execution_count": 56,
   "metadata": {
    "tags": []
   },
   "outputs": [
    {
     "output_type": "stream",
     "name": "stdout",
     "text": "368/1 - 0s - loss: 0.1886 - accuracy: 0.8696\nLoss: 0.3476372566074133, Accuracy: 0.8695651888847351\n"
    }
   ],
   "source": [
    "# Define the model - deep neural net\n",
    "number_input_features = len(X_train[0])\n",
    "hidden_nodes_layer1 =  8\n",
    "hidden_nodes_layer2 = 5\n",
    "\n",
    "nn_new = tf.keras.models.Sequential()\n",
    "\n",
    "# First hidden layer\n",
    "nn_new.add(\n",
    "    tf.keras.layers.Dense(units=hidden_nodes_layer1, input_dim=number_input_features, activation=\"relu\")\n",
    ")\n",
    "\n",
    "# Second hidden layer\n",
    "nn_new.add(tf.keras.layers.Dense(units=hidden_nodes_layer2, activation=\"relu\"))\n",
    "\n",
    "# Output layer\n",
    "nn_new.add(tf.keras.layers.Dense(units=1, activation=\"sigmoid\"))\n",
    "\n",
    "# Compile the model\n",
    "nn_new.compile(loss=\"binary_crossentropy\", optimizer=\"adam\", metrics=[\"accuracy\"])\n",
    "\n",
    "# Restore the model weights\n",
    "nn_new.load_weights(\"checkpoints/weights.100.hdf5\")\n",
    "\n",
    "# Evaluate the model using the test data\n",
    "model_loss, model_accuracy = nn_new.evaluate(X_test_scaled,y_test,verbose=2)\n",
    "print(f\"Loss: {model_loss}, Accuracy: {model_accuracy}\")"
   ]
  },
  {
   "cell_type": "code",
   "execution_count": 57,
   "metadata": {},
   "outputs": [],
   "source": [
    "# Export our model to HDF5 file\n",
    "nn_new.save(\"trained_attrition.h5\")"
   ]
  },
  {
   "cell_type": "code",
   "execution_count": 58,
   "metadata": {},
   "outputs": [],
   "source": [
    "# Import the model to a new object\n",
    "nn_imported = tf.keras.models.load_model('trained_attrition.h5')"
   ]
  },
  {
   "cell_type": "code",
   "execution_count": 59,
   "metadata": {
    "tags": []
   },
   "outputs": [
    {
     "output_type": "stream",
     "name": "stdout",
     "text": "368/1 - 0s - loss: 0.1886 - accuracy: 0.8696\nLoss: 0.3476372566074133, Accuracy: 0.8695651888847351\n"
    }
   ],
   "source": [
    "# Evaluate the model using the test data\n",
    "model_loss, model_accuracy = nn_new.evaluate(X_test_scaled,y_test,verbose=2)\n",
    "print(f\"Loss: {model_loss}, Accuracy: {model_accuracy}\")"
   ]
  },
  {
   "cell_type": "code",
   "execution_count": null,
   "metadata": {},
   "outputs": [],
   "source": []
  }
 ]
}