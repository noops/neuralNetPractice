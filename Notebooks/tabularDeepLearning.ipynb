{
 "metadata": {
  "language_info": {
   "codemirror_mode": {
    "name": "ipython",
    "version": 3
   },
   "file_extension": ".py",
   "mimetype": "text/x-python",
   "name": "python",
   "nbconvert_exporter": "python",
   "pygments_lexer": "ipython3",
   "version": "3.7.7-final"
  },
  "orig_nbformat": 2,
  "kernelspec": {
   "name": "Python 3.7.7 64-bit ('PythonData': conda)",
   "display_name": "Python 3.7.7 64-bit ('PythonData': conda)",
   "metadata": {
    "interpreter": {
     "hash": "6629937ca33c91e24171fb9c2c6e8adc4c28b335a7e363e22452b0d874202ae3"
    }
   }
  }
 },
 "nbformat": 4,
 "nbformat_minor": 2,
 "cells": [
  {
   "cell_type": "code",
   "execution_count": 2,
   "metadata": {},
   "outputs": [],
   "source": [
    "#imports\n",
    "from sklearn.model_selection import train_test_split\n",
    "from sklearn.preprocessing import StandardScaler,OneHotEncoder\n",
    "import pandas as pd\n",
    "import tensorflow as tf\n",
    "from path import Path"
   ]
  },
  {
   "cell_type": "code",
   "execution_count": 4,
   "metadata": {},
   "outputs": [
    {
     "output_type": "execute_result",
     "data": {
      "text/plain": "   Age Attrition     BusinessTravel  DailyRate              Department  \\\n0   41       Yes      Travel_Rarely       1102                   Sales   \n1   49        No  Travel_Frequently        279  Research &amp; Development   \n2   37       Yes      Travel_Rarely       1373  Research &amp; Development   \n3   33        No  Travel_Frequently       1392  Research &amp; Development   \n4   27        No      Travel_Rarely        591  Research &amp; Development   \n\n   DistanceFromHome  Education EducationField  EmployeeCount  EmployeeNumber  \\\n0                 1          2  Life Sciences              1               1   \n1                 8          1  Life Sciences              1               2   \n2                 2          2          Other              1               4   \n3                 3          4  Life Sciences              1               5   \n4                 2          1        Medical              1               7   \n\n   ...  RelationshipSatisfaction StandardHours  StockOptionLevel  \\\n0  ...                         1            80                 0   \n1  ...                         4            80                 1   \n2  ...                         2            80                 0   \n3  ...                         3            80                 0   \n4  ...                         4            80                 1   \n\n   TotalWorkingYears  TrainingTimesLastYear WorkLifeBalance  YearsAtCompany  \\\n0                  8                      0               1               6   \n1                 10                      3               3              10   \n2                  7                      3               3               0   \n3                  8                      3               3               8   \n4                  6                      3               3               2   \n\n  YearsInCurrentRole  YearsSinceLastPromotion  YearsWithCurrManager  \n0                  4                        0                     5  \n1                  7                        1                     7  \n2                  0                        0                     0  \n3                  7                        3                     0  \n4                  2                        2                     2  \n\n[5 rows x 35 columns]",
      "text/html": "<div>\n<style scoped>\n    .dataframe tbody tr th:only-of-type {\n        vertical-align: middle;\n    }\n\n    .dataframe tbody tr th {\n        vertical-align: top;\n    }\n\n    .dataframe thead th {\n        text-align: right;\n    }\n</style>\n<table border=\"1\" class=\"dataframe\">\n  <thead>\n    <tr style=\"text-align: right;\">\n      <th></th>\n      <th>Age</th>\n      <th>Attrition</th>\n      <th>BusinessTravel</th>\n      <th>DailyRate</th>\n      <th>Department</th>\n      <th>DistanceFromHome</th>\n      <th>Education</th>\n      <th>EducationField</th>\n      <th>EmployeeCount</th>\n      <th>EmployeeNumber</th>\n      <th>...</th>\n      <th>RelationshipSatisfaction</th>\n      <th>StandardHours</th>\n      <th>StockOptionLevel</th>\n      <th>TotalWorkingYears</th>\n      <th>TrainingTimesLastYear</th>\n      <th>WorkLifeBalance</th>\n      <th>YearsAtCompany</th>\n      <th>YearsInCurrentRole</th>\n      <th>YearsSinceLastPromotion</th>\n      <th>YearsWithCurrManager</th>\n    </tr>\n  </thead>\n  <tbody>\n    <tr>\n      <th>0</th>\n      <td>41</td>\n      <td>Yes</td>\n      <td>Travel_Rarely</td>\n      <td>1102</td>\n      <td>Sales</td>\n      <td>1</td>\n      <td>2</td>\n      <td>Life Sciences</td>\n      <td>1</td>\n      <td>1</td>\n      <td>...</td>\n      <td>1</td>\n      <td>80</td>\n      <td>0</td>\n      <td>8</td>\n      <td>0</td>\n      <td>1</td>\n      <td>6</td>\n      <td>4</td>\n      <td>0</td>\n      <td>5</td>\n    </tr>\n    <tr>\n      <th>1</th>\n      <td>49</td>\n      <td>No</td>\n      <td>Travel_Frequently</td>\n      <td>279</td>\n      <td>Research &amp; Development</td>\n      <td>8</td>\n      <td>1</td>\n      <td>Life Sciences</td>\n      <td>1</td>\n      <td>2</td>\n      <td>...</td>\n      <td>4</td>\n      <td>80</td>\n      <td>1</td>\n      <td>10</td>\n      <td>3</td>\n      <td>3</td>\n      <td>10</td>\n      <td>7</td>\n      <td>1</td>\n      <td>7</td>\n    </tr>\n    <tr>\n      <th>2</th>\n      <td>37</td>\n      <td>Yes</td>\n      <td>Travel_Rarely</td>\n      <td>1373</td>\n      <td>Research &amp; Development</td>\n      <td>2</td>\n      <td>2</td>\n      <td>Other</td>\n      <td>1</td>\n      <td>4</td>\n      <td>...</td>\n      <td>2</td>\n      <td>80</td>\n      <td>0</td>\n      <td>7</td>\n      <td>3</td>\n      <td>3</td>\n      <td>0</td>\n      <td>0</td>\n      <td>0</td>\n      <td>0</td>\n    </tr>\n    <tr>\n      <th>3</th>\n      <td>33</td>\n      <td>No</td>\n      <td>Travel_Frequently</td>\n      <td>1392</td>\n      <td>Research &amp; Development</td>\n      <td>3</td>\n      <td>4</td>\n      <td>Life Sciences</td>\n      <td>1</td>\n      <td>5</td>\n      <td>...</td>\n      <td>3</td>\n      <td>80</td>\n      <td>0</td>\n      <td>8</td>\n      <td>3</td>\n      <td>3</td>\n      <td>8</td>\n      <td>7</td>\n      <td>3</td>\n      <td>0</td>\n    </tr>\n    <tr>\n      <th>4</th>\n      <td>27</td>\n      <td>No</td>\n      <td>Travel_Rarely</td>\n      <td>591</td>\n      <td>Research &amp; Development</td>\n      <td>2</td>\n      <td>1</td>\n      <td>Medical</td>\n      <td>1</td>\n      <td>7</td>\n      <td>...</td>\n      <td>4</td>\n      <td>80</td>\n      <td>1</td>\n      <td>6</td>\n      <td>3</td>\n      <td>3</td>\n      <td>2</td>\n      <td>2</td>\n      <td>2</td>\n      <td>2</td>\n    </tr>\n  </tbody>\n</table>\n<p>5 rows × 35 columns</p>\n</div>"
     },
     "metadata": {},
     "execution_count": 4
    }
   ],
   "source": [
    "file_path = Path(\"../Resources/HR-Employee-Attrition.csv\")\n",
    "attrition_df = pd.read_csv(file_path)\n",
    "attrition_df.head()"
   ]
  },
  {
   "cell_type": "code",
   "execution_count": 5,
   "metadata": {},
   "outputs": [],
   "source": [
    "#generate categorical variable list\n",
    "attrition_cat = attrition_df.dtypes[attrition_df.dtypes == \"object\"].index.tolist()"
   ]
  },
  {
   "cell_type": "code",
   "execution_count": 6,
   "metadata": {},
   "outputs": [
    {
     "output_type": "execute_result",
     "data": {
      "text/plain": "Attrition         2\nBusinessTravel    3\nDepartment        3\nEducationField    6\nGender            2\nJobRole           9\nMaritalStatus     3\nOver18            1\nOverTime          2\ndtype: int64"
     },
     "metadata": {},
     "execution_count": 6
    }
   ],
   "source": [
    "#check number of unique values\n",
    "attrition_df[attrition_cat].nunique()"
   ]
  },
  {
   "cell_type": "code",
   "execution_count": 7,
   "metadata": {},
   "outputs": [
    {
     "output_type": "execute_result",
     "data": {
      "text/plain": "   Attrition_No  Attrition_Yes  BusinessTravel_Non-Travel  \\\n0           0.0            1.0                        0.0   \n1           1.0            0.0                        0.0   \n2           0.0            1.0                        0.0   \n3           1.0            0.0                        0.0   \n4           1.0            0.0                        0.0   \n\n   BusinessTravel_Travel_Frequently  BusinessTravel_Travel_Rarely  \\\n0                               0.0                           1.0   \n1                               1.0                           0.0   \n2                               0.0                           1.0   \n3                               1.0                           0.0   \n4                               0.0                           1.0   \n\n   Department_Human Resources  Department_Research &amp; Development  \\\n0                         0.0                                0.0   \n1                         0.0                                1.0   \n2                         0.0                                1.0   \n3                         0.0                                1.0   \n4                         0.0                                1.0   \n\n   Department_Sales  EducationField_Human Resources  \\\n0               1.0                             0.0   \n1               0.0                             0.0   \n2               0.0                             0.0   \n3               0.0                             0.0   \n4               0.0                             0.0   \n\n   EducationField_Life Sciences  ...  JobRole_Research Director  \\\n0                           1.0  ...                        0.0   \n1                           1.0  ...                        0.0   \n2                           0.0  ...                        0.0   \n3                           1.0  ...                        0.0   \n4                           0.0  ...                        0.0   \n\n   JobRole_Research Scientist  JobRole_Sales Executive  \\\n0                         0.0                      1.0   \n1                         1.0                      0.0   \n2                         0.0                      0.0   \n3                         1.0                      0.0   \n4                         0.0                      0.0   \n\n   JobRole_Sales Representative  MaritalStatus_Divorced  \\\n0                           0.0                     0.0   \n1                           0.0                     0.0   \n2                           0.0                     0.0   \n3                           0.0                     0.0   \n4                           0.0                     0.0   \n\n   MaritalStatus_Married  MaritalStatus_Single  Over18_Y  OverTime_No  \\\n0                    0.0                   1.0       1.0          0.0   \n1                    1.0                   0.0       1.0          1.0   \n2                    0.0                   1.0       1.0          0.0   \n3                    1.0                   0.0       1.0          0.0   \n4                    1.0                   0.0       1.0          1.0   \n\n   OverTime_Yes  \n0           1.0  \n1           0.0  \n2           1.0  \n3           1.0  \n4           0.0  \n\n[5 rows x 31 columns]",
      "text/html": "<div>\n<style scoped>\n    .dataframe tbody tr th:only-of-type {\n        vertical-align: middle;\n    }\n\n    .dataframe tbody tr th {\n        vertical-align: top;\n    }\n\n    .dataframe thead th {\n        text-align: right;\n    }\n</style>\n<table border=\"1\" class=\"dataframe\">\n  <thead>\n    <tr style=\"text-align: right;\">\n      <th></th>\n      <th>Attrition_No</th>\n      <th>Attrition_Yes</th>\n      <th>BusinessTravel_Non-Travel</th>\n      <th>BusinessTravel_Travel_Frequently</th>\n      <th>BusinessTravel_Travel_Rarely</th>\n      <th>Department_Human Resources</th>\n      <th>Department_Research &amp; Development</th>\n      <th>Department_Sales</th>\n      <th>EducationField_Human Resources</th>\n      <th>EducationField_Life Sciences</th>\n      <th>...</th>\n      <th>JobRole_Research Director</th>\n      <th>JobRole_Research Scientist</th>\n      <th>JobRole_Sales Executive</th>\n      <th>JobRole_Sales Representative</th>\n      <th>MaritalStatus_Divorced</th>\n      <th>MaritalStatus_Married</th>\n      <th>MaritalStatus_Single</th>\n      <th>Over18_Y</th>\n      <th>OverTime_No</th>\n      <th>OverTime_Yes</th>\n    </tr>\n  </thead>\n  <tbody>\n    <tr>\n      <th>0</th>\n      <td>0.0</td>\n      <td>1.0</td>\n      <td>0.0</td>\n      <td>0.0</td>\n      <td>1.0</td>\n      <td>0.0</td>\n      <td>0.0</td>\n      <td>1.0</td>\n      <td>0.0</td>\n      <td>1.0</td>\n      <td>...</td>\n      <td>0.0</td>\n      <td>0.0</td>\n      <td>1.0</td>\n      <td>0.0</td>\n      <td>0.0</td>\n      <td>0.0</td>\n      <td>1.0</td>\n      <td>1.0</td>\n      <td>0.0</td>\n      <td>1.0</td>\n    </tr>\n    <tr>\n      <th>1</th>\n      <td>1.0</td>\n      <td>0.0</td>\n      <td>0.0</td>\n      <td>1.0</td>\n      <td>0.0</td>\n      <td>0.0</td>\n      <td>1.0</td>\n      <td>0.0</td>\n      <td>0.0</td>\n      <td>1.0</td>\n      <td>...</td>\n      <td>0.0</td>\n      <td>1.0</td>\n      <td>0.0</td>\n      <td>0.0</td>\n      <td>0.0</td>\n      <td>1.0</td>\n      <td>0.0</td>\n      <td>1.0</td>\n      <td>1.0</td>\n      <td>0.0</td>\n    </tr>\n    <tr>\n      <th>2</th>\n      <td>0.0</td>\n      <td>1.0</td>\n      <td>0.0</td>\n      <td>0.0</td>\n      <td>1.0</td>\n      <td>0.0</td>\n      <td>1.0</td>\n      <td>0.0</td>\n      <td>0.0</td>\n      <td>0.0</td>\n      <td>...</td>\n      <td>0.0</td>\n      <td>0.0</td>\n      <td>0.0</td>\n      <td>0.0</td>\n      <td>0.0</td>\n      <td>0.0</td>\n      <td>1.0</td>\n      <td>1.0</td>\n      <td>0.0</td>\n      <td>1.0</td>\n    </tr>\n    <tr>\n      <th>3</th>\n      <td>1.0</td>\n      <td>0.0</td>\n      <td>0.0</td>\n      <td>1.0</td>\n      <td>0.0</td>\n      <td>0.0</td>\n      <td>1.0</td>\n      <td>0.0</td>\n      <td>0.0</td>\n      <td>1.0</td>\n      <td>...</td>\n      <td>0.0</td>\n      <td>1.0</td>\n      <td>0.0</td>\n      <td>0.0</td>\n      <td>0.0</td>\n      <td>1.0</td>\n      <td>0.0</td>\n      <td>1.0</td>\n      <td>0.0</td>\n      <td>1.0</td>\n    </tr>\n    <tr>\n      <th>4</th>\n      <td>1.0</td>\n      <td>0.0</td>\n      <td>0.0</td>\n      <td>0.0</td>\n      <td>1.0</td>\n      <td>0.0</td>\n      <td>1.0</td>\n      <td>0.0</td>\n      <td>0.0</td>\n      <td>0.0</td>\n      <td>...</td>\n      <td>0.0</td>\n      <td>0.0</td>\n      <td>0.0</td>\n      <td>0.0</td>\n      <td>0.0</td>\n      <td>1.0</td>\n      <td>0.0</td>\n      <td>1.0</td>\n      <td>1.0</td>\n      <td>0.0</td>\n    </tr>\n  </tbody>\n</table>\n<p>5 rows × 31 columns</p>\n</div>"
     },
     "metadata": {},
     "execution_count": 7
    }
   ],
   "source": [
    "#create onehotencoder instance\n",
    "enc = OneHotEncoder(sparse=False)\n",
    "\n",
    "#fit and transform\n",
    "encode_df = pd.DataFrame(enc.fit_transform(attrition_df[attrition_cat]))\n",
    "\n",
    "#add the encoded variable names \n",
    "encode_df.columns = enc.get_feature_names(attrition_cat)\n",
    "encode_df.head()"
   ]
  },
  {
   "cell_type": "code",
   "execution_count": 8,
   "metadata": {},
   "outputs": [
    {
     "output_type": "execute_result",
     "data": {
      "text/plain": "   Age  DailyRate  DistanceFromHome  Education  EmployeeCount  EmployeeNumber  \\\n0   41       1102                 1          2              1               1   \n1   49        279                 8          1              1               2   \n2   37       1373                 2          2              1               4   \n3   33       1392                 3          4              1               5   \n4   27        591                 2          1              1               7   \n\n   EnvironmentSatisfaction  HourlyRate  JobInvolvement  JobLevel  ...  \\\n0                        2          94               3         2  ...   \n1                        3          61               2         2  ...   \n2                        4          92               2         1  ...   \n3                        4          56               3         1  ...   \n4                        1          40               3         1  ...   \n\n   JobRole_Research Director  JobRole_Research Scientist  \\\n0                        0.0                         0.0   \n1                        0.0                         1.0   \n2                        0.0                         0.0   \n3                        0.0                         1.0   \n4                        0.0                         0.0   \n\n   JobRole_Sales Executive  JobRole_Sales Representative  \\\n0                      1.0                           0.0   \n1                      0.0                           0.0   \n2                      0.0                           0.0   \n3                      0.0                           0.0   \n4                      0.0                           0.0   \n\n   MaritalStatus_Divorced  MaritalStatus_Married  MaritalStatus_Single  \\\n0                     0.0                    0.0                   1.0   \n1                     0.0                    1.0                   0.0   \n2                     0.0                    0.0                   1.0   \n3                     0.0                    1.0                   0.0   \n4                     0.0                    1.0                   0.0   \n\n   Over18_Y  OverTime_No  OverTime_Yes  \n0       1.0          0.0           1.0  \n1       1.0          1.0           0.0  \n2       1.0          0.0           1.0  \n3       1.0          0.0           1.0  \n4       1.0          1.0           0.0  \n\n[5 rows x 57 columns]",
      "text/html": "<div>\n<style scoped>\n    .dataframe tbody tr th:only-of-type {\n        vertical-align: middle;\n    }\n\n    .dataframe tbody tr th {\n        vertical-align: top;\n    }\n\n    .dataframe thead th {\n        text-align: right;\n    }\n</style>\n<table border=\"1\" class=\"dataframe\">\n  <thead>\n    <tr style=\"text-align: right;\">\n      <th></th>\n      <th>Age</th>\n      <th>DailyRate</th>\n      <th>DistanceFromHome</th>\n      <th>Education</th>\n      <th>EmployeeCount</th>\n      <th>EmployeeNumber</th>\n      <th>EnvironmentSatisfaction</th>\n      <th>HourlyRate</th>\n      <th>JobInvolvement</th>\n      <th>JobLevel</th>\n      <th>...</th>\n      <th>JobRole_Research Director</th>\n      <th>JobRole_Research Scientist</th>\n      <th>JobRole_Sales Executive</th>\n      <th>JobRole_Sales Representative</th>\n      <th>MaritalStatus_Divorced</th>\n      <th>MaritalStatus_Married</th>\n      <th>MaritalStatus_Single</th>\n      <th>Over18_Y</th>\n      <th>OverTime_No</th>\n      <th>OverTime_Yes</th>\n    </tr>\n  </thead>\n  <tbody>\n    <tr>\n      <th>0</th>\n      <td>41</td>\n      <td>1102</td>\n      <td>1</td>\n      <td>2</td>\n      <td>1</td>\n      <td>1</td>\n      <td>2</td>\n      <td>94</td>\n      <td>3</td>\n      <td>2</td>\n      <td>...</td>\n      <td>0.0</td>\n      <td>0.0</td>\n      <td>1.0</td>\n      <td>0.0</td>\n      <td>0.0</td>\n      <td>0.0</td>\n      <td>1.0</td>\n      <td>1.0</td>\n      <td>0.0</td>\n      <td>1.0</td>\n    </tr>\n    <tr>\n      <th>1</th>\n      <td>49</td>\n      <td>279</td>\n      <td>8</td>\n      <td>1</td>\n      <td>1</td>\n      <td>2</td>\n      <td>3</td>\n      <td>61</td>\n      <td>2</td>\n      <td>2</td>\n      <td>...</td>\n      <td>0.0</td>\n      <td>1.0</td>\n      <td>0.0</td>\n      <td>0.0</td>\n      <td>0.0</td>\n      <td>1.0</td>\n      <td>0.0</td>\n      <td>1.0</td>\n      <td>1.0</td>\n      <td>0.0</td>\n    </tr>\n    <tr>\n      <th>2</th>\n      <td>37</td>\n      <td>1373</td>\n      <td>2</td>\n      <td>2</td>\n      <td>1</td>\n      <td>4</td>\n      <td>4</td>\n      <td>92</td>\n      <td>2</td>\n      <td>1</td>\n      <td>...</td>\n      <td>0.0</td>\n      <td>0.0</td>\n      <td>0.0</td>\n      <td>0.0</td>\n      <td>0.0</td>\n      <td>0.0</td>\n      <td>1.0</td>\n      <td>1.0</td>\n      <td>0.0</td>\n      <td>1.0</td>\n    </tr>\n    <tr>\n      <th>3</th>\n      <td>33</td>\n      <td>1392</td>\n      <td>3</td>\n      <td>4</td>\n      <td>1</td>\n      <td>5</td>\n      <td>4</td>\n      <td>56</td>\n      <td>3</td>\n      <td>1</td>\n      <td>...</td>\n      <td>0.0</td>\n      <td>1.0</td>\n      <td>0.0</td>\n      <td>0.0</td>\n      <td>0.0</td>\n      <td>1.0</td>\n      <td>0.0</td>\n      <td>1.0</td>\n      <td>0.0</td>\n      <td>1.0</td>\n    </tr>\n    <tr>\n      <th>4</th>\n      <td>27</td>\n      <td>591</td>\n      <td>2</td>\n      <td>1</td>\n      <td>1</td>\n      <td>7</td>\n      <td>1</td>\n      <td>40</td>\n      <td>3</td>\n      <td>1</td>\n      <td>...</td>\n      <td>0.0</td>\n      <td>0.0</td>\n      <td>0.0</td>\n      <td>0.0</td>\n      <td>0.0</td>\n      <td>1.0</td>\n      <td>0.0</td>\n      <td>1.0</td>\n      <td>1.0</td>\n      <td>0.0</td>\n    </tr>\n  </tbody>\n</table>\n<p>5 rows × 57 columns</p>\n</div>"
     },
     "metadata": {},
     "execution_count": 8
    }
   ],
   "source": [
    "#merge encoded features and drop originals\n",
    "attrition_df = attrition_df.merge(encode_df, left_index=True, right_index=True)\n",
    "attrition_df = attrition_df.drop(attrition_cat, 1)\n",
    "attrition_df.head()"
   ]
  },
  {
   "cell_type": "code",
   "execution_count": 9,
   "metadata": {},
   "outputs": [],
   "source": [
    "#split preprocessed data into features and targets\n",
    "y = attrition_df[\"Attrition_Yes\"].values\n",
    "X = attrition_df.drop([\"Attrition_Yes\", \"Attrition_No\"],1).values\n",
    "\n",
    "#split preprocessed data into training and testing \n",
    "X_train, X_test, y_train, y_test = train_test_split(X, y, random_state=78)\n"
   ]
  },
  {
   "cell_type": "code",
   "execution_count": 10,
   "metadata": {},
   "outputs": [],
   "source": [
    "#create scaler instance\n",
    "scaler = StandardScaler()\n",
    "\n",
    "#fit scaler\n",
    "X_scaler = scaler.fit(X_train)\n",
    "\n",
    "#scale the data\n",
    "X_train_scaled = X_scaler.transform(X_train)\n",
    "X_test_scaled = X_scaler.transform(X_test)"
   ]
  },
  {
   "cell_type": "code",
   "execution_count": 12,
   "metadata": {
    "tags": []
   },
   "outputs": [
    {
     "output_type": "stream",
     "name": "stdout",
     "text": "Model: &quot;sequential&quot;\n_________________________________________________________________\nLayer (type)                 Output Shape              Param #   \n=================================================================\ndense_1 (Dense)              (None, 8)                 448       \n_________________________________________________________________\ndense_2 (Dense)              (None, 5)                 45        \n_________________________________________________________________\ndense_3 (Dense)              (None, 1)                 6         \n=================================================================\nTotal params: 499\nTrainable params: 499\nNon-trainable params: 0\n_________________________________________________________________\n"
    }
   ],
   "source": [
    "#define the model - deep neural network\n",
    "number_input_features = len(X_train[0])\n",
    "hidden_nodes_layer1 = 8\n",
    "hidden_nodes_layer2 = 5\n",
    "\n",
    "nn = tf.keras.models.Sequential()\n",
    "\n",
    "#first hidden layer\n",
    "nn.add(tf.keras.layers.Dense(units=hidden_nodes_layer1, input_dim=number_input_features, activation=\"relu\"))\n",
    "#second hidden layer\n",
    "nn.add(tf.keras.layers.Dense(units=hidden_nodes_layer2, input_dim=number_input_features, activation=\"relu\"))\n",
    "\n",
    "#output layer\n",
    "nn.add(tf.keras.layers.Dense(units=1, activation='sigmoid'))\n",
    "\n",
    "#check summary of model\n",
    "nn.summary()"
   ]
  },
  {
   "cell_type": "code",
   "execution_count": 13,
   "metadata": {},
   "outputs": [],
   "source": [
    "#compile the model\n",
    "nn.compile(loss=\"binary_crossentropy\", optimizer=\"adam\", metrics=[\"accuracy\"])"
   ]
  },
  {
   "cell_type": "code",
   "execution_count": 14,
   "metadata": {
    "tags": []
   },
   "outputs": [
    {
     "output_type": "stream",
     "name": "stdout",
     "text": "Train on 1102 samples\nEpoch 1/100\n1102/1102 [==============================] - 2s 2ms/sample - loss: 367.5795 - accuracy: 0.2495\nEpoch 2/100\n1102/1102 [==============================] - 0s 136us/sample - loss: 99.5402 - accuracy: 0.5744\nEpoch 3/100\n1102/1102 [==============================] - 0s 140us/sample - loss: 48.8998 - accuracy: 0.6760\nEpoch 4/100\n1102/1102 [==============================] - 0s 133us/sample - loss: 29.4463 - accuracy: 0.7241\nEpoch 5/100\n1102/1102 [==============================] - 0s 156us/sample - loss: 20.0956 - accuracy: 0.7468\nEpoch 6/100\n1102/1102 [==============================] - 0s 164us/sample - loss: 13.4433 - accuracy: 0.7677\nEpoch 7/100\n1102/1102 [==============================] - 0s 175us/sample - loss: 8.8146 - accuracy: 0.7840\nEpoch 8/100\n1102/1102 [==============================] - 0s 164us/sample - loss: 5.7154 - accuracy: 0.7922\nEpoch 9/100\n1102/1102 [==============================] - 0s 168us/sample - loss: 3.9846 - accuracy: 0.8004\nEpoch 10/100\n1102/1102 [==============================] - 0s 151us/sample - loss: 2.9493 - accuracy: 0.8058\nEpoch 11/100\n1102/1102 [==============================] - 0s 145us/sample - loss: 2.3326 - accuracy: 0.8131\nEpoch 12/100\n1102/1102 [==============================] - 0s 157us/sample - loss: 1.9670 - accuracy: 0.8158\nEpoch 13/100\n1102/1102 [==============================] - 0s 156us/sample - loss: 1.6276 - accuracy: 0.8158\nEpoch 14/100\n1102/1102 [==============================] - 0s 159us/sample - loss: 1.3727 - accuracy: 0.8185\nEpoch 15/100\n1102/1102 [==============================] - 0s 173us/sample - loss: 1.2078 - accuracy: 0.8203\nEpoch 16/100\n1102/1102 [==============================] - 0s 170us/sample - loss: 1.0894 - accuracy: 0.8230\nEpoch 17/100\n1102/1102 [==============================] - 0s 140us/sample - loss: 0.9781 - accuracy: 0.8221\nEpoch 18/100\n1102/1102 [==============================] - 0s 129us/sample - loss: 0.8744 - accuracy: 0.8240\nEpoch 19/100\n1102/1102 [==============================] - 0s 143us/sample - loss: 0.8377 - accuracy: 0.8249\nEpoch 20/100\n1102/1102 [==============================] - 0s 139us/sample - loss: 0.7840 - accuracy: 0.8258\nEpoch 21/100\n1102/1102 [==============================] - 0s 117us/sample - loss: 0.7390 - accuracy: 0.8267\nEpoch 22/100\n1102/1102 [==============================] - 0s 111us/sample - loss: 0.6949 - accuracy: 0.8267\nEpoch 23/100\n1102/1102 [==============================] - 0s 135us/sample - loss: 0.6926 - accuracy: 0.8276\nEpoch 24/100\n1102/1102 [==============================] - 0s 139us/sample - loss: 0.6933 - accuracy: 0.8267\nEpoch 25/100\n1102/1102 [==============================] - 0s 167us/sample - loss: 0.6524 - accuracy: 0.8276\nEpoch 26/100\n1102/1102 [==============================] - 0s 167us/sample - loss: 0.6585 - accuracy: 0.8267\nEpoch 27/100\n1102/1102 [==============================] - 0s 171us/sample - loss: 0.6425 - accuracy: 0.8276\nEpoch 28/100\n1102/1102 [==============================] - 0s 157us/sample - loss: 0.6247 - accuracy: 0.8276\nEpoch 29/100\n1102/1102 [==============================] - 0s 142us/sample - loss: 0.6148 - accuracy: 0.8276\nEpoch 30/100\n1102/1102 [==============================] - 0s 185us/sample - loss: 0.5963 - accuracy: 0.8276\nEpoch 31/100\n1102/1102 [==============================] - 0s 137us/sample - loss: 0.6132 - accuracy: 0.8276\nEpoch 32/100\n1102/1102 [==============================] - 0s 158us/sample - loss: 0.5915 - accuracy: 0.8276\nEpoch 33/100\n1102/1102 [==============================] - 0s 147us/sample - loss: 0.6114 - accuracy: 0.8267\nEpoch 34/100\n1102/1102 [==============================] - 0s 163us/sample - loss: 0.5855 - accuracy: 0.8276\nEpoch 35/100\n1102/1102 [==============================] - 0s 139us/sample - loss: 0.5795 - accuracy: 0.8267\nEpoch 36/100\n1102/1102 [==============================] - 0s 244us/sample - loss: 0.6001 - accuracy: 0.8276\nEpoch 37/100\n1102/1102 [==============================] - 0s 182us/sample - loss: 0.5598 - accuracy: 0.8294\nEpoch 38/100\n1102/1102 [==============================] - 0s 155us/sample - loss: 0.5706 - accuracy: 0.8285\nEpoch 39/100\n1102/1102 [==============================] - 0s 158us/sample - loss: 0.5535 - accuracy: 0.8294\nEpoch 40/100\n1102/1102 [==============================] - 0s 151us/sample - loss: 0.5571 - accuracy: 0.8285\nEpoch 41/100\n1102/1102 [==============================] - 0s 147us/sample - loss: 0.5608 - accuracy: 0.8267\nEpoch 42/100\n1102/1102 [==============================] - 0s 132us/sample - loss: 0.5721 - accuracy: 0.8276\nEpoch 43/100\n1102/1102 [==============================] - 0s 142us/sample - loss: 0.5408 - accuracy: 0.8294\nEpoch 44/100\n1102/1102 [==============================] - 0s 132us/sample - loss: 0.5372 - accuracy: 0.8294\nEpoch 45/100\n1102/1102 [==============================] - 0s 125us/sample - loss: 0.5344 - accuracy: 0.8294\nEpoch 46/100\n1102/1102 [==============================] - 0s 149us/sample - loss: 0.5306 - accuracy: 0.8294\nEpoch 47/100\n1102/1102 [==============================] - 0s 132us/sample - loss: 0.5279 - accuracy: 0.8294\nEpoch 48/100\n1102/1102 [==============================] - 0s 136us/sample - loss: 0.5249 - accuracy: 0.8294\nEpoch 49/100\n1102/1102 [==============================] - 0s 140us/sample - loss: 0.5226 - accuracy: 0.8294\nEpoch 50/100\n1102/1102 [==============================] - 0s 140us/sample - loss: 0.5203 - accuracy: 0.8294\nEpoch 51/100\n1102/1102 [==============================] - 0s 159us/sample - loss: 0.5179 - accuracy: 0.8294\nEpoch 52/100\n1102/1102 [==============================] - 0s 137us/sample - loss: 0.5160 - accuracy: 0.8294\nEpoch 53/100\n1102/1102 [==============================] - 0s 136us/sample - loss: 0.5135 - accuracy: 0.8294\nEpoch 54/100\n1102/1102 [==============================] - 0s 145us/sample - loss: 0.5117 - accuracy: 0.8294\nEpoch 55/100\n1102/1102 [==============================] - 0s 138us/sample - loss: 0.5097 - accuracy: 0.8294\nEpoch 56/100\n1102/1102 [==============================] - 0s 127us/sample - loss: 0.5086 - accuracy: 0.8294\nEpoch 57/100\n1102/1102 [==============================] - 0s 143us/sample - loss: 0.5063 - accuracy: 0.8294\nEpoch 58/100\n1102/1102 [==============================] - 0s 127us/sample - loss: 0.5050 - accuracy: 0.8294\nEpoch 59/100\n1102/1102 [==============================] - 0s 131us/sample - loss: 0.5034 - accuracy: 0.8294\nEpoch 60/100\n1102/1102 [==============================] - 0s 200us/sample - loss: 0.5016 - accuracy: 0.8294\nEpoch 61/100\n1102/1102 [==============================] - 0s 137us/sample - loss: 0.4998 - accuracy: 0.8294\nEpoch 62/100\n1102/1102 [==============================] - 0s 143us/sample - loss: 0.4982 - accuracy: 0.8294\nEpoch 63/100\n1102/1102 [==============================] - 0s 127us/sample - loss: 0.4966 - accuracy: 0.8294\nEpoch 64/100\n1102/1102 [==============================] - 0s 110us/sample - loss: 0.4950 - accuracy: 0.8294\nEpoch 65/100\n1102/1102 [==============================] - 0s 115us/sample - loss: 0.4938 - accuracy: 0.8294\nEpoch 66/100\n1102/1102 [==============================] - 0s 133us/sample - loss: 0.4969 - accuracy: 0.8285\nEpoch 67/100\n1102/1102 [==============================] - 0s 144us/sample - loss: 0.5868 - accuracy: 0.8258\nEpoch 68/100\n1102/1102 [==============================] - 0s 144us/sample - loss: 0.5808 - accuracy: 0.8249\nEpoch 69/100\n1102/1102 [==============================] - 0s 175us/sample - loss: 0.5658 - accuracy: 0.8276\nEpoch 70/100\n1102/1102 [==============================] - 0s 166us/sample - loss: 0.5619 - accuracy: 0.8276\nEpoch 71/100\n1102/1102 [==============================] - 0s 143us/sample - loss: 0.5550 - accuracy: 0.8276\nEpoch 72/100\n1102/1102 [==============================] - 0s 138us/sample - loss: 0.5517 - accuracy: 0.8276\nEpoch 73/100\n1102/1102 [==============================] - 0s 148us/sample - loss: 0.5450 - accuracy: 0.8276\nEpoch 74/100\n1102/1102 [==============================] - 0s 149us/sample - loss: 0.5392 - accuracy: 0.8276\nEpoch 75/100\n1102/1102 [==============================] - 0s 140us/sample - loss: 0.5759 - accuracy: 0.8267\nEpoch 76/100\n1102/1102 [==============================] - 0s 123us/sample - loss: 0.5401 - accuracy: 0.8267\nEpoch 77/100\n1102/1102 [==============================] - 0s 126us/sample - loss: 0.5782 - accuracy: 0.8258\nEpoch 78/100\n1102/1102 [==============================] - 0s 128us/sample - loss: 0.5406 - accuracy: 0.8267\nEpoch 79/100\n1102/1102 [==============================] - 0s 131us/sample - loss: 0.5296 - accuracy: 0.8276\nEpoch 80/100\n1102/1102 [==============================] - 0s 144us/sample - loss: 0.5256 - accuracy: 0.8276\nEpoch 81/100\n1102/1102 [==============================] - 0s 173us/sample - loss: 0.5218 - accuracy: 0.8276\nEpoch 82/100\n1102/1102 [==============================] - 0s 135us/sample - loss: 0.5188 - accuracy: 0.8267\nEpoch 83/100\n1102/1102 [==============================] - 0s 139us/sample - loss: 0.5153 - accuracy: 0.8276\nEpoch 84/100\n1102/1102 [==============================] - 0s 141us/sample - loss: 0.5109 - accuracy: 0.8276\nEpoch 85/100\n1102/1102 [==============================] - 0s 145us/sample - loss: 0.5069 - accuracy: 0.8276\nEpoch 86/100\n1102/1102 [==============================] - 0s 150us/sample - loss: 0.5036 - accuracy: 0.8276\nEpoch 87/100\n1102/1102 [==============================] - 0s 123us/sample - loss: 0.5010 - accuracy: 0.8276\nEpoch 88/100\n1102/1102 [==============================] - 0s 118us/sample - loss: 0.4989 - accuracy: 0.8276\nEpoch 89/100\n1102/1102 [==============================] - 0s 133us/sample - loss: 0.4976 - accuracy: 0.8276\nEpoch 90/100\n1102/1102 [==============================] - 0s 125us/sample - loss: 0.4959 - accuracy: 0.8276\nEpoch 91/100\n1102/1102 [==============================] - 0s 157us/sample - loss: 0.4943 - accuracy: 0.8276\nEpoch 92/100\n1102/1102 [==============================] - 0s 148us/sample - loss: 0.4923 - accuracy: 0.8276\nEpoch 93/100\n1102/1102 [==============================] - 0s 152us/sample - loss: 0.4896 - accuracy: 0.8276\nEpoch 94/100\n1102/1102 [==============================] - 0s 146us/sample - loss: 0.4871 - accuracy: 0.8276\nEpoch 95/100\n1102/1102 [==============================] - 0s 136us/sample - loss: 0.4858 - accuracy: 0.8276\nEpoch 96/100\n1102/1102 [==============================] - 0s 163us/sample - loss: 0.4830 - accuracy: 0.8276\nEpoch 97/100\n1102/1102 [==============================] - 0s 139us/sample - loss: 0.4807 - accuracy: 0.8276\nEpoch 98/100\n1102/1102 [==============================] - 0s 118us/sample - loss: 0.4788 - accuracy: 0.8276\nEpoch 99/100\n1102/1102 [==============================] - 0s 118us/sample - loss: 0.4769 - accuracy: 0.8276\nEpoch 100/100\n1102/1102 [==============================] - 0s 139us/sample - loss: 0.4759 - accuracy: 0.8276\n"
    }
   ],
   "source": [
    "#train the model\n",
    "fit_model = nn.fit(X_train, y_train, epochs=100)\n"
   ]
  },
  {
   "cell_type": "code",
   "execution_count": 15,
   "metadata": {
    "tags": []
   },
   "outputs": [
    {
     "output_type": "stream",
     "name": "stdout",
     "text": "368/1 - 0s - loss: 0.3612 - accuracy: 0.8723\nLoss: 0.43803326202475507, Accuracy: 0.8722826242446899\n"
    }
   ],
   "source": [
    "#evaluate model using test data\n",
    "model_loss, model_accuracy = nn.evaluate(X_test, y_test, verbose=2)\n",
    "print(f\"Loss: {model_loss}, Accuracy: {model_accuracy}\")"
   ]
  },
  {
   "cell_type": "code",
   "execution_count": null,
   "metadata": {},
   "outputs": [],
   "source": []
  }
 ]
}